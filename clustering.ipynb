{
 "cells": [
  {
   "cell_type": "markdown",
   "id": "33f7618e",
   "metadata": {},
   "source": [
    "# Clustering"
   ]
  },
  {
   "cell_type": "markdown",
   "id": "21ca9106",
   "metadata": {},
   "source": [
    "Practice part from Spike"
   ]
  },
  {
   "cell_type": "code",
   "execution_count": 98,
   "id": "fdaf3153",
   "metadata": {},
   "outputs": [],
   "source": [
    "from sklearn.datasets import make_blobs\n",
    "from sklearn.cluster import KMeans\n",
    "from sklearn.metrics import silhouette_score\n",
    "\n",
    "import pandas as pd\n",
    "\n",
    "import plotly.express as px\n",
    "from plotly.subplots import make_subplots\n",
    "import plotly.graph_objects as go\n",
    "\n",
    "from yellowbrick.cluster import SilhouetteVisualizer"
   ]
  },
  {
   "cell_type": "code",
   "execution_count": 99,
   "id": "78412fed",
   "metadata": {},
   "outputs": [
    {
     "data": {
      "text/plain": [
       "False"
      ]
     },
     "execution_count": 99,
     "metadata": {},
     "output_type": "execute_result"
    }
   ],
   "source": [
    "from dotenv import load_dotenv\n",
    "load_dotenv()"
   ]
  },
  {
   "cell_type": "markdown",
   "id": "83d0f410",
   "metadata": {},
   "source": [
    "## Create dummy data (3 dimensions)"
   ]
  },
  {
   "cell_type": "code",
   "execution_count": 100,
   "id": "16ff4a86",
   "metadata": {},
   "outputs": [
    {
     "data": {
      "text/plain": [
       "(array([[ 0.11960797, -0.63330163,  0.32647078],\n",
       "        [-0.78990112,  1.24991092,  0.02371264],\n",
       "        [-0.71634874, -0.19690367, -0.39202675],\n",
       "        [-0.51880137,  0.73197515,  0.2885474 ],\n",
       "        [-0.69826919,  1.07088338,  0.23985651],\n",
       "        [ 0.32845056, -0.82515636, -1.06063732],\n",
       "        [-0.18217345, -0.81371843,  0.4665824 ],\n",
       "        [-0.20362206, -0.78533858,  0.12047873],\n",
       "        [ 0.33281401, -0.94286627, -0.69046982],\n",
       "        [-0.35283897,  0.92870219,  0.08314962],\n",
       "        [ 0.28858976, -0.9773222 , -0.29327931],\n",
       "        [-0.1325746 , -0.39440339, -0.42644067],\n",
       "        [-0.40999757, -1.06858459,  0.39734826],\n",
       "        [-0.31192048, -0.86962666,  0.12750813],\n",
       "        [-0.6268843 , -0.15885604, -0.58808318],\n",
       "        [-0.60417318,  0.13150539, -0.36683706],\n",
       "        [-0.52082474,  0.60441167,  0.32100343],\n",
       "        [ 0.43589364, -0.73662867, -0.49233922],\n",
       "        [-0.63898938,  1.04123236,  0.44056661],\n",
       "        [ 0.54643534, -0.66655713, -0.82802711],\n",
       "        [-0.7461677 ,  0.91849245,  0.07016834],\n",
       "        [ 0.03643984, -1.01790051,  0.27034796],\n",
       "        [ 0.28454559, -1.03397294, -0.92652407],\n",
       "        [-0.49219618,  0.66474401,  0.08670602],\n",
       "        [-0.89465309,  0.93482039,  0.42579077],\n",
       "        [-0.32265979,  0.57592332,  0.2581388 ],\n",
       "        [-0.77806291,  0.97100594,  0.30428937],\n",
       "        [-0.68701643, -0.76290314, -0.00558994],\n",
       "        [ 0.34727628, -1.02980147, -0.81618502],\n",
       "        [-0.81624311,  0.71058603,  0.08435488],\n",
       "        [-0.95585527,  0.71794491,  0.47164687],\n",
       "        [-0.3547676 , -0.19124931, -0.56181201],\n",
       "        [ 0.15244417, -0.79426089, -0.79444139],\n",
       "        [-0.0083045 ,  0.2371098 , -0.3457759 ],\n",
       "        [-0.71114758,  0.17177041, -0.29567457],\n",
       "        [-0.43437814, -0.25542719, -0.70075392],\n",
       "        [-0.90024265,  0.48892331,  0.02308443],\n",
       "        [ 0.17899163, -1.11843887,  0.19341093],\n",
       "        [ 0.08040828, -0.92197879, -0.99106847],\n",
       "        [-0.05953061,  0.01542316, -0.72301087],\n",
       "        [-0.66289492,  0.33921511,  0.09771121],\n",
       "        [-0.63454365,  1.06824235,  0.34739638],\n",
       "        [-0.1960974 , -0.61918728, -0.98339199],\n",
       "        [-0.47618536, -0.27466302, -0.5950537 ],\n",
       "        [-0.65045343,  0.81638448,  0.09132405],\n",
       "        [-0.62068997, -0.27194827, -0.24097676],\n",
       "        [-0.74672257,  0.8559489 ,  0.05571859],\n",
       "        [ 0.30966101, -0.90833729, -0.88481467],\n",
       "        [-0.57753251, -1.06549363,  0.45703284],\n",
       "        [-0.34242224, -0.18800153, -0.18933681],\n",
       "        [-0.20224198, -0.93225138,  0.64466868],\n",
       "        [-1.14776201,  0.57342989, -0.11729334],\n",
       "        [-0.92997521,  0.94722318,  0.0495356 ],\n",
       "        [-0.47463941, -0.21314545, -0.59617947],\n",
       "        [-0.78325609,  0.72196616,  0.68200574],\n",
       "        [-0.71843564,  0.18349357, -0.45971635],\n",
       "        [-0.6336204 ,  0.64193471,  0.18481519],\n",
       "        [-0.75097023,  0.7818085 ,  0.10778621],\n",
       "        [-0.42403741, -0.59635944,  0.28212935],\n",
       "        [ 0.30699456, -0.69495736, -0.92024044],\n",
       "        [-0.83608199,  0.64546335, -0.07201282],\n",
       "        [-0.16336122, -0.83314424,  0.18500043],\n",
       "        [-0.25468991,  0.05399546, -0.46267503],\n",
       "        [-0.17314714, -0.20888235, -0.27759275],\n",
       "        [-0.96563965,  0.54041144,  0.01613401],\n",
       "        [ 0.3595124 , -0.7685677 , -1.29140924],\n",
       "        [-0.36807298, -0.07456105, -0.24987717],\n",
       "        [-0.41200513, -0.99654072,  0.08506717],\n",
       "        [-0.97823764,  0.6413429 ,  0.13460899],\n",
       "        [-0.50869491,  0.04784613, -0.53563255],\n",
       "        [-0.09511989,  0.12667642, -0.40946157],\n",
       "        [-0.50940463, -0.24330606, -0.67377026],\n",
       "        [ 0.3311765 , -0.53850155, -0.92776041],\n",
       "        [-0.78702875,  1.06321191, -0.25210576],\n",
       "        [ 0.0382124 , -0.85496476,  0.27187666],\n",
       "        [-0.63870319, -0.30256613, -0.49247087],\n",
       "        [-0.3651935 , -0.26659883, -0.63708928],\n",
       "        [ 0.30516917, -1.03040478, -0.92750332],\n",
       "        [-0.86722747,  0.93939591,  0.49659708],\n",
       "        [-0.19884236, -1.07998743, -0.85222712],\n",
       "        [-0.19103018, -1.04989427,  0.76544477],\n",
       "        [-0.41853759, -0.2677091 , -0.5018604 ],\n",
       "        [ 0.14388242, -0.75462039, -1.04354052],\n",
       "        [-0.24624479,  0.04089382, -0.58661884],\n",
       "        [-0.37484566, -0.96734021,  0.10367849],\n",
       "        [ 0.11258181, -0.61801334,  0.14527122],\n",
       "        [-0.30871413, -0.14926771, -0.30300553],\n",
       "        [ 0.31637982, -0.92297226, -0.68332216],\n",
       "        [ 0.11907909, -1.06991808, -0.71408219],\n",
       "        [-0.26637853, -1.05043741,  0.63329821],\n",
       "        [-0.12173109, -0.6422387 , -0.79601816],\n",
       "        [ 0.39238647, -0.91479257, -0.92725542],\n",
       "        [-0.16972306, -1.20306116,  0.14527585],\n",
       "        [ 0.1125049 , -0.83617836, -1.01681597],\n",
       "        [-0.10686606, -0.69549898,  0.59654893],\n",
       "        [-0.35268412,  0.44703171,  0.10837297],\n",
       "        [-0.79979147,  0.00909525, -0.39019355],\n",
       "        [-0.62320688,  0.76029942,  0.40448207],\n",
       "        [ 0.35195882, -0.59998899, -0.68558698],\n",
       "        [-0.83106285,  0.9243068 ,  0.24324419],\n",
       "        [-0.36027232, -0.86530175,  0.13881536],\n",
       "        [-0.29124482, -0.811164  ,  0.1359156 ],\n",
       "        [-0.59932454, -0.31560312, -0.51962284],\n",
       "        [-0.25827661, -0.70664692,  0.32449889],\n",
       "        [-0.17007401, -0.90015347,  0.32157239],\n",
       "        [-0.28045367,  0.07580844, -0.53512654],\n",
       "        [ 0.27603824, -0.35184582, -0.64011412],\n",
       "        [ 0.37351569, -1.01142036, -0.92514804],\n",
       "        [-0.59302308, -0.85723739, -0.11935998],\n",
       "        [ 0.03120525, -0.79011951, -0.82787616],\n",
       "        [-0.35600387, -0.54261212, -0.41365117],\n",
       "        [-0.11918683, -0.61158432,  0.24443472],\n",
       "        [-0.27009569, -1.08581194, -1.07646363],\n",
       "        [-0.4365097 ,  0.95992205,  0.33046555],\n",
       "        [-0.7022402 ,  0.73973226,  0.14714709],\n",
       "        [-0.66476636,  0.59721416,  0.20404463],\n",
       "        [-0.33887063, -0.75589718,  0.51144884],\n",
       "        [-0.60385065, -1.16203638,  0.17225663],\n",
       "        [ 0.22718369, -0.72623708, -0.88809119],\n",
       "        [-0.8698265 , -0.85447886,  0.25434764],\n",
       "        [ 0.43254555, -0.92914738, -1.06354389],\n",
       "        [-0.77162839,  0.995245  ,  0.76953447],\n",
       "        [-0.46722643, -1.08640341,  0.33124286],\n",
       "        [-0.52215173, -0.78347172, -0.01740539],\n",
       "        [-0.07433722, -0.68150115, -0.82721914],\n",
       "        [-0.72418761,  0.63110998,  0.43128134],\n",
       "        [ 0.12411252, -1.16024162, -0.55973691],\n",
       "        [-0.41669965, -0.5898781 ,  0.22192873],\n",
       "        [-0.38305302, -1.06614466,  0.22616306],\n",
       "        [-0.29780863, -0.73472826, -1.2625562 ],\n",
       "        [ 0.06503336, -0.53584032,  0.56635501],\n",
       "        [ 0.02234429, -0.88628599,  0.24505564],\n",
       "        [-0.87713491,  0.60332795,  0.08775572],\n",
       "        [-0.86403651,  0.73205284,  0.37222703],\n",
       "        [-0.59457206, -0.20633144, -0.67292319],\n",
       "        [-0.47023127,  0.07295394, -0.48358846],\n",
       "        [-0.45949544,  0.55224934, -0.28281788],\n",
       "        [-0.27934969, -0.57785363,  0.30002286],\n",
       "        [-0.45736025, -0.78480367,  0.2874925 ],\n",
       "        [-0.37072974, -0.77426029,  0.49615449],\n",
       "        [-0.26821012, -0.0582144 , -0.38743674],\n",
       "        [-0.47884591,  0.05536936, -0.71376788],\n",
       "        [-0.22364779, -0.70647465,  0.06005076],\n",
       "        [-0.61551722,  1.01425098,  0.32524156],\n",
       "        [ 0.15566946, -0.92235336, -0.91720645],\n",
       "        [ 0.18453041, -0.79882007,  0.19688499],\n",
       "        [-0.10288892,  0.1771653 , -0.40169264],\n",
       "        [-0.09915841, -0.87454521,  0.02607456],\n",
       "        [ 0.01150748, -1.13635456, -0.46917887],\n",
       "        [ 0.25499454, -0.6269458 , -1.20903503],\n",
       "        [-0.76415395,  0.72352679,  0.6077244 ],\n",
       "        [-0.3248692 ,  0.0938327 , -0.59704366],\n",
       "        [-0.22757131,  0.02973611, -0.32597176],\n",
       "        [-0.11096276, -0.77568531, -1.15013566],\n",
       "        [-0.63835822, -0.46746631, -0.15318528],\n",
       "        [-0.76260969,  0.52888714,  0.44170505],\n",
       "        [-0.2412198 , -0.12178605, -0.56318812],\n",
       "        [-0.44472691, -0.8214695 , -0.0112463 ],\n",
       "        [-1.06782095,  0.55972302,  0.02348563],\n",
       "        [-0.37072707, -1.09942244,  0.07958725],\n",
       "        [-1.12172518,  0.54361579,  0.20284031],\n",
       "        [ 0.80243855, -0.77779398, -0.55390045],\n",
       "        [-0.52233536, -0.24656223, -0.55751056],\n",
       "        [-0.10439279, -1.21354432, -1.09868687],\n",
       "        [ 0.36315853, -0.6014382 , -0.92315285],\n",
       "        [-0.30065486, -0.03334318, -0.66965145],\n",
       "        [ 0.03194265, -0.78846233, -0.79690337],\n",
       "        [-0.76908036,  0.85047913,  0.49964779],\n",
       "        [ 0.01171118, -1.15376855,  0.37124341],\n",
       "        [-0.54422015, -0.42156374, -0.50913193],\n",
       "        [-0.17287626, -0.82525841,  0.27123439],\n",
       "        [-0.90469729,  0.96546399,  0.39473928],\n",
       "        [-0.35739681, -0.83273211,  0.2873859 ],\n",
       "        [-0.86091114,  0.7914618 ,  0.29147846],\n",
       "        [-0.25891379, -0.92739769,  0.0045842 ],\n",
       "        [-0.49470309, -1.00942657,  0.32404754],\n",
       "        [ 0.08867937,  0.12715299, -0.57912798],\n",
       "        [-0.22718551, -0.06092715, -0.61217593],\n",
       "        [ 0.6222679 , -0.56165602, -1.42703232],\n",
       "        [-0.07924628, -0.84554446,  0.34204418],\n",
       "        [ 0.00620324, -0.8824092 , -0.38187304],\n",
       "        [ 0.26923881, -0.84485871, -0.90224543],\n",
       "        [ 0.09869281, -0.66118519, -0.99190904],\n",
       "        [-0.29813708,  0.30444722, -0.49897335],\n",
       "        [-0.60397654,  0.80600063,  0.15977947],\n",
       "        [ 0.26192704, -0.44539087, -0.91154852],\n",
       "        [-0.47413632, -0.89119555,  0.37617547],\n",
       "        [-0.39373217, -0.11181057, -0.58031477],\n",
       "        [-0.52211309,  0.02817236, -0.48078024],\n",
       "        [-0.97917233,  0.91418839, -0.01195165],\n",
       "        [-0.51708463, -0.16586696, -0.30503733],\n",
       "        [ 0.26766416, -1.02313512, -0.96468827],\n",
       "        [-0.27594346,  0.06375639, -0.47782058],\n",
       "        [ 0.21226029, -1.13314493, -1.17063945],\n",
       "        [-0.72574588,  0.55526236,  0.02977495],\n",
       "        [ 0.22599318, -0.77191442, -0.87533882],\n",
       "        [-0.29476322, -0.29219051, -0.2317543 ],\n",
       "        [-0.24687104, -0.58775914, -0.51099622],\n",
       "        [-0.10267638,  0.03568552, -0.86570069],\n",
       "        [ 0.02790969, -1.10493596, -0.89533944]]),\n",
       " array([2, 1, 0, 1, 1, 3, 2, 2, 3, 1, 3, 0, 2, 2, 0, 0, 1, 3, 1, 3, 1, 2,\n",
       "        3, 1, 1, 1, 1, 2, 3, 1, 1, 0, 3, 0, 0, 0, 1, 2, 3, 0, 1, 1, 3, 0,\n",
       "        1, 0, 1, 3, 2, 0, 2, 1, 1, 0, 1, 0, 1, 1, 2, 3, 1, 2, 0, 0, 1, 3,\n",
       "        0, 2, 1, 0, 0, 0, 3, 1, 2, 0, 0, 3, 1, 3, 2, 0, 3, 0, 2, 2, 0, 3,\n",
       "        3, 2, 3, 3, 2, 3, 2, 1, 0, 1, 3, 1, 2, 2, 0, 2, 2, 0, 3, 3, 2, 3,\n",
       "        0, 2, 3, 1, 1, 1, 2, 2, 3, 2, 3, 1, 2, 2, 3, 1, 3, 2, 2, 3, 2, 2,\n",
       "        1, 1, 0, 0, 1, 2, 2, 2, 0, 0, 2, 1, 3, 2, 0, 2, 3, 3, 1, 0, 0, 3,\n",
       "        0, 1, 0, 2, 1, 2, 1, 3, 0, 3, 3, 0, 3, 1, 2, 0, 2, 1, 2, 1, 2, 2,\n",
       "        0, 0, 3, 2, 3, 3, 3, 0, 1, 3, 2, 0, 0, 1, 0, 3, 0, 3, 1, 3, 0, 3,\n",
       "        0, 3]))"
      ]
     },
     "execution_count": 100,
     "metadata": {},
     "output_type": "execute_result"
    }
   ],
   "source": [
    "data = make_blobs(n_samples=200 , n_features=3, centers=4, cluster_std=0.2, center_box=(-1, 1), random_state=420)\n",
    "data"
   ]
  },
  {
   "cell_type": "code",
   "execution_count": 101,
   "id": "ad4cb2f9",
   "metadata": {},
   "outputs": [
    {
     "data": {
      "text/html": [
       "<div>\n",
       "<style scoped>\n",
       "    .dataframe tbody tr th:only-of-type {\n",
       "        vertical-align: middle;\n",
       "    }\n",
       "\n",
       "    .dataframe tbody tr th {\n",
       "        vertical-align: top;\n",
       "    }\n",
       "\n",
       "    .dataframe thead th {\n",
       "        text-align: right;\n",
       "    }\n",
       "</style>\n",
       "<table border=\"1\" class=\"dataframe\">\n",
       "  <thead>\n",
       "    <tr style=\"text-align: right;\">\n",
       "      <th></th>\n",
       "      <th>feature1</th>\n",
       "      <th>feature2</th>\n",
       "      <th>feature3</th>\n",
       "      <th>cluster</th>\n",
       "    </tr>\n",
       "  </thead>\n",
       "  <tbody>\n",
       "    <tr>\n",
       "      <th>0</th>\n",
       "      <td>0.119608</td>\n",
       "      <td>-0.633302</td>\n",
       "      <td>0.326471</td>\n",
       "      <td>2</td>\n",
       "    </tr>\n",
       "    <tr>\n",
       "      <th>1</th>\n",
       "      <td>-0.789901</td>\n",
       "      <td>1.249911</td>\n",
       "      <td>0.023713</td>\n",
       "      <td>1</td>\n",
       "    </tr>\n",
       "    <tr>\n",
       "      <th>2</th>\n",
       "      <td>-0.716349</td>\n",
       "      <td>-0.196904</td>\n",
       "      <td>-0.392027</td>\n",
       "      <td>0</td>\n",
       "    </tr>\n",
       "    <tr>\n",
       "      <th>3</th>\n",
       "      <td>-0.518801</td>\n",
       "      <td>0.731975</td>\n",
       "      <td>0.288547</td>\n",
       "      <td>1</td>\n",
       "    </tr>\n",
       "    <tr>\n",
       "      <th>4</th>\n",
       "      <td>-0.698269</td>\n",
       "      <td>1.070883</td>\n",
       "      <td>0.239857</td>\n",
       "      <td>1</td>\n",
       "    </tr>\n",
       "  </tbody>\n",
       "</table>\n",
       "</div>"
      ],
      "text/plain": [
       "   feature1  feature2  feature3 cluster\n",
       "0  0.119608 -0.633302  0.326471       2\n",
       "1 -0.789901  1.249911  0.023713       1\n",
       "2 -0.716349 -0.196904 -0.392027       0\n",
       "3 -0.518801  0.731975  0.288547       1\n",
       "4 -0.698269  1.070883  0.239857       1"
      ]
     },
     "execution_count": 101,
     "metadata": {},
     "output_type": "execute_result"
    }
   ],
   "source": [
    "df = pd.DataFrame(data[0], columns=[\"feature1\", \"feature2\", \"feature3\"])\n",
    "df['cluster'] = pd.Categorical(data[1].astype(str), categories=[\"0\", \"1\", \"2\", \"3\"], ordered=True)\n",
    "\n",
    "df.head()"
   ]
  },
  {
   "cell_type": "markdown",
   "id": "e66c20d9",
   "metadata": {},
   "source": [
    "## Dimensional Visualizations\n",
    "\n",
    "Inspect your data and consider outlier removal and standardization/normalization."
   ]
  },
  {
   "cell_type": "code",
   "execution_count": 102,
   "id": "bfd22822",
   "metadata": {},
   "outputs": [
    {
     "data": {
      "application/vnd.plotly.v1+json": {
       "config": {
        "plotlyServerURL": "https://plot.ly"
       },
       "data": [
        {
         "legendgroup": "0",
         "marker": {
          "color": "#636EFA"
         },
         "mode": "markers",
         "name": "0",
         "type": "scatter",
         "x": {
          "bdata": "Td31M1Ts5r9G6DlTNPjAvxrkCKpvD+S/PxDr+2JV479eevErg7TWvyi+z4fzAYG/atBSkbjB5r/H20P82czbvzeQwsPLeq6/6GkgJ9J53r9bZxI4sdzjvzbP/Pg+6tW/fXFL/X1g3r/uydm7bP3mv9c2QOvWTNC/gQAMhK8pxr+pOyT4gY7XvwBlc446R+C/2Sh/98ZZuL+aDPbxCk3gv2wPGKtBcOS/9dOMilRf1798pBnlUcnav2a01gTzhM+/pcA35PjB078MHj5K5Jfpvx/eJaiqLeO/eFAg8vPy0b9BVgdwxMjWv+98Q/27BuO/f0Hh4UQY3r+SVVzGWirRv4miqE9ppd6/MnQ2p+1Wur+zSZkxqMrUv1TXVoQOIc2/Mc2UOG5t5L/KpypcSuDOv4jBI6X4tuC/7u1Z5e0907+6QedhQGrhv1gSovaws7Y/QZYtN2oUzb8D5TSRrRTTv7wf42noMtm/leECgSa14L9LBgwQ9Yvgv8gYo8IOqdG/QZGqjGbd0r/1h+/a/0i6vw==",
          "dtype": "f8"
         },
         "xaxis": "x",
         "y": {
          "bdata": "hjKeuyM0yb+L14i45z3Zv+Chrw9lVcS/DDuyJivVwD/fNIWG23rIvzzQMCCdWc4/YmFkn5L8xT+HTHJG61jQv4M/5MMtlo8/ENRtORSU0b+kFym4mWfRv2Ha+SNvEMi/nSsXnFlIy79SFKmqt3zHP5GGd9pKpas/tADHKqi8yr+i5qfgbhazvxvKLt9Jf6g/P0bn1e42wD8pGf4vpyTPv3hRYFU+XdO/mv1IjfQP0b+vMi5XJSLRv6dDftkI8KQ/K8hORDQbw79qd2p8h6CCP+eGA3HXMtS/39zriC5osz+ed1saFF3hv6JGVZcRacq/t9+79Butsj8RH4sTR86tvwv4GEZfWaw/JFkyOFqtxj/JtjN8awW4P+gu2sEkc54/GpmP0/fq3b+lr3DwXi2/vy9EQu9Zj8+/+L2Ln1sSob9CHw585vrav4U1EJeMRsA/UE8r8dcxr78fzto0EHzTP83tfBGen7y/78vJ1jbZnD89d77dIDvFv0mIyqdWUrA/bSgO1D+z0r/0trlEX0WiPw==",
          "dtype": "f8"
         },
         "yaxis": "y"
        },
        {
         "legendgroup": "1",
         "marker": {
          "color": "#EF553B"
         },
         "mode": "markers",
         "name": "1",
         "type": "scatter",
         "x": {
          "bdata": "FqvGuN5G6b+ne/1WBZrgv2LyLqE4WOa/XGvM4+mU1r/w9yCmmKrgv8w+kNyZcuS/3fFgF5vg579nI8lmJIDfv5v0qYb/oOy/ea5rO3Wm1L9QU9Et5OXov17l3d+pHuq/1kpCyV2W7r8lFTqryc7sv9CR02lvNuW/GPmafS5O5L8BWTm3g9Dkvzv4xrom5ee/pQlysjtd8r/ONARgW8Ltv87GDBZvEOm/2hzuR55G5L/jlKy48gfovzDNlgQvweq/EvQ7HYXm7r/vhzYGuU3vvx6MMehWL+m/cF6E0FPA67+m/tBoYJLWvwxerY5P8eO/2X2YHhGY6r8xGlhexu/bv95TmHLAeOa/iNi1GsRF5b/B47MELrHov9zd+XuLLOe/ID/NOn0R7L+4udLjL6brv0DtSJJfaN2/05SZKVGy478T1cv58nPov9RFoG9MZ+i/Hy2Ma8sV8b+k2hcZlvLxv2a6X2hOnOi/myshvEfz7L+QvaeFlYzrv65Ai5vGU+O/heNuNmFV77+16X9sTznnvw==",
          "dtype": "f8"
         },
         "xaxis": "x",
         "y": {
          "bdata": "JsrlmKL/8z+E6FwmV2znP+jlyJtWIvE/g1Aipe237T92f9oiV1fjP2bYg0TjqPA/RBafR0pk7T/mnmg7lUXlPxytHnEM6u0/Ul4tvvZt4j/P4HsOexLvPwGfL+geveY/ixu3m2f55j/8j7ABhUrfP9E1+k+ztdU/shsBSoUX8T8QnPZa0h/qP9PijfTuY+s/P4aepYlZ4j8lLY/6pk/uP/cPRcZYGuc/l3T+p7qK5D902JNEkwTpP/chGcKip+Q/B2jB8AxL4T+TCG+N4YXkPwXXknzqAvE/M3kcBIgP7j+GuuvfKpzcP7mhd3BfVOg/fKFP2+uT7T87rxBxrrfuPw9kIfziq+c/1Ras3GAc4z8YMZULDNnvPwzqz44NMuQ/xJr7bHZO4z/kKqsS+mznPzMqBNEGrOE/uL2qO1868D+zd6unISfnP+9M9bek7OA/KtLxPkDp4T/n2IjzTGXhP7AePAAgN+s/V3ZMuhTl7j89F9Kvp1PpP9woE9PByuk/nO2iAwhB7T+aySuPtcThPw==",
          "dtype": "f8"
         },
         "yaxis": "y"
        },
        {
         "legendgroup": "2",
         "marker": {
          "color": "#00CC96"
         },
         "mode": "markers",
         "name": "2",
         "type": "scatter",
         "x": {
          "bdata": "rnqjs6Cevj/siLmmdVHHvxmqZapJEMq/jiI3dGY92r9w4g9MgfbTv2lZaDI+qKI/0bDf4An85b+LAfKdMunGP7wovXIle+K/tyYxrBDjyb8Xle3ObSPbv/MHEEAF6cS/pCxwxkpe2r/J8h1Xk5CjP3/RgEKtc8i/1N/xpnj91791/JlGKdK8P0xOw4RYDNG/mIqtPHy5xb8PXrTyklu7v4nNmqazDte/P0VpTMGj0r90ReiamofQv0D92yj8xMW/TtX2iQv64r/BAJooB4O+v3mITXUOsNW/19Q0l75S478oTRJkntXrvy8URLEJ592/VxEmi3e14L/cDfIGNavav7ciqc7wg9i/GAjiqAamsD+rh1k2bOGWP0AB/Yfd4NG/KFT652NF3b9iuC4+CbrXv+L9Nqt9oMy/IaL1QrGexz+6pt/+cWK5v6BMEd9ndty/KLZEC/6517/XAvEpCPyHP/PA5CLPIMa/v2I23Jbf1r9tbkYgC5LQvxC7kyc3qd+/Rif65HtJtL/cXlvhP1jevw==",
          "dtype": "f8"
         },
         "xaxis": "x",
         "y": {
          "bdata": "7i8gxQFE5L9COzo8+wnqv2hYL2J+Iem/6GJUKOwY8b+nveFL+9Prv+lz2ApSSfC//bPR2bNp6L+K68knIOXxv1l+UAxDDPG/jFx01gDV7b+q7CliYBXjvwNY1Rweqeq/aQqZXqnj77/GWBkM31vrv4Qxo+9dzPC/JBSMdXP07r+dhuLpw8bjvzDKbHWXzvC/C6xrEL0/87/F3voUh0Hmv6hHGkmNsOu/isDDMw716b/OyfX92Zzmv6xdC6cOzuy/hlu7GH1u67+5oQxJGZLjv0OvAEdPMOi/d4xcdrOX8r9+yXEO5Ffrv+3OeYvoYfG/H4GZRzMS6b8Big0HSODiv6/borPtDvG/2FPEmpol4b+h/iRudFzsv8fYiubGfeK/22rrlhwd6b9XlOaBvcbov3ViPrtwm+a/EJl0He+P6b969Rg8Rvzrv7/AKGd6Seq/QjUK/TuX8b8/WG0D1nXyv1laKFWEaOq/w1iG0b2l6r9oqlvqPa3tv9xhOnqcJvC/iMmtQLMO67+1hgKGrITsvw==",
          "dtype": "f8"
         },
         "yaxis": "y"
        },
        {
         "legendgroup": "3",
         "marker": {
          "color": "#AB63FA"
         },
         "mode": "markers",
         "name": "3",
         "type": "scatter",
         "x": {
          "bdata": "OSb4glUF1T8A4Toj00zVP367qzFBeNI/lvT1cq7l2z/Rz3X1ZXzhP506E7D+NdI/RBhQTMY51j9X1tVpSoPDP+smRQ+jlbQ/vL9TLbgZyb9jAdFlfNHTP875NH/MpdM/tBUdSEAC1z/Whjvq/jHVP+Y4XEXkh9M/zIv/m6pzyb+pFzsxvWrCP9y1uiGRP9Q/u9Beofd7vj/BWr7YxCm/v6UYyCHcHNk/gFOT/h7NvD9CxKBKfobWPwWrVUqcqtE/CP0AX67n1z9R5gq+RPSfP2tOEmw/SdG/q3oQ8loUzT8Df+CF067bP1cZ54nDB7O/nAIxndbFvz/rDb3qSw/Tv4SQZxn67MM/x9OQ9TuRhz8AHfGg1FHQP+spMx0OaLy/jh3SmpOt6T8kOW13fLm6v21jgUj9Pdc/CCrHnslaoD/xrQZdnunjPyfVElCSaHk/JDOabzU70T83fLWh7kO5P5sh2qNpw9A/JvWv1mgh0T9TBTdUWCvLP++nzCpY7cw/tiY2bHiZz7+dwo2DW5ScPw==",
          "dtype": "f8"
         },
         "xaxis": "x",
         "y": {
          "bdata": "/z0RUK5n6r+xQ3ng9Svuvzp0oDY5Ru+/DhZASnaS579pq5aeb1Tlv3aZRDUni/C/coNvGhF68L+OWLfRlWrpv3LdsKnZgO2/jIAx12HQ479J5atcGRHtv5N4FjUXPea/l4Y5SBuY6L+uVNOXZzvhv1X+L7mJfPC/3BYW56BH8b8I8miq2SXov8FgaBz9iO2/u0Fqa2Ie8b92upMrOI3kv7oUNxP7Re2/UthQHPnB6r+xeIgaHDPjv2zBtlikhNa/oOOzHMcu8L8TBtq3qEjpv41xc1h8X/G/zzFnilU957/CCMBIk7vtv8yDL4HbzuW/Sh1hhVmQ8r+1effU5ILnv5BwKjPrg+2/J1l+HYIu8r+3fOSg8A/kv6hUIP5p0ui/xmP9MrDj6L8CV69zrWrzvxR8F1X7PuO/W1FuWBU76b8rjMALFvnhv1gnFjayPOy/J+u3IhUJ67+mO9rWbSjlv4FFSbZIgdy/NvKw78Je8L/5LYeUXCHyv5ZBSdyFs+i/UICQQ+zO4r+yvG9V0a3xvw==",
          "dtype": "f8"
         },
         "yaxis": "y"
        },
        {
         "legendgroup": "0",
         "marker": {
          "color": "#636EFA"
         },
         "mode": "markers",
         "name": "0",
         "showlegend": false,
         "type": "scatter",
         "x": {
          "bdata": "Td31M1Ts5r9G6DlTNPjAvxrkCKpvD+S/PxDr+2JV479eevErg7TWvyi+z4fzAYG/atBSkbjB5r/H20P82czbvzeQwsPLeq6/6GkgJ9J53r9bZxI4sdzjvzbP/Pg+6tW/fXFL/X1g3r/uydm7bP3mv9c2QOvWTNC/gQAMhK8pxr+pOyT4gY7XvwBlc446R+C/2Sh/98ZZuL+aDPbxCk3gv2wPGKtBcOS/9dOMilRf1798pBnlUcnav2a01gTzhM+/pcA35PjB078MHj5K5Jfpvx/eJaiqLeO/eFAg8vPy0b9BVgdwxMjWv+98Q/27BuO/f0Hh4UQY3r+SVVzGWirRv4miqE9ppd6/MnQ2p+1Wur+zSZkxqMrUv1TXVoQOIc2/Mc2UOG5t5L/KpypcSuDOv4jBI6X4tuC/7u1Z5e0907+6QedhQGrhv1gSovaws7Y/QZYtN2oUzb8D5TSRrRTTv7wf42noMtm/leECgSa14L9LBgwQ9Yvgv8gYo8IOqdG/QZGqjGbd0r/1h+/a/0i6vw==",
          "dtype": "f8"
         },
         "xaxis": "x2",
         "y": {
          "bdata": "CUTjXPcW2b/ZHEfMzUrbv5NHlNCT0eK/3XfYI0J617+DKHssXfrhv/EijzoxIda//3/pCFXs0r/DD5t7k2zmv5JWmrLnIue//mM9Da4K479kFz2aU9jOv+lyw08wPMi/8Wtz+uYT479y3L4i/mvdvxdJur93nN2/GQQ8XhTE0b9AflCe+fvPv+8JiN7mI+G/EcVhSJ402r/m7Imjho/lv1x1iIakhN+/93YEDglj5L+sYSqJPQ/gv6vCjd+UxeK/ISbxTXFk079n9Jpc7vjYvwUn6BHAoOC/ieIotMEf4b9ONyHFQnnavxkGFzWWiOW/Q4J/Ah3z3r92KYB1w8vYvzYvJL4v1+a/tYdpDVW12b9Awg5P+xrjv8TRPKi43NS/4RVnQpObw79IY1IZowXiv4tzwWMg1+G/ch0z4Mht5b83BvkLz0rgv/yZKmc3iOK/GUBk9/GW4799kbDmLe/fv7f9wUfwkeK/HHyCehrF3r8KElhQu4XTvz/5IcOclN6/nDVr/h+qzb/LUvHu0bPrvw==",
          "dtype": "f8"
         },
         "yaxis": "y2"
        },
        {
         "legendgroup": "1",
         "marker": {
          "color": "#EF553B"
         },
         "mode": "markers",
         "name": "1",
         "showlegend": false,
         "type": "scatter",
         "x": {
          "bdata": "FqvGuN5G6b+ne/1WBZrgv2LyLqE4WOa/XGvM4+mU1r/w9yCmmKrgv8w+kNyZcuS/3fFgF5vg579nI8lmJIDfv5v0qYb/oOy/ea5rO3Wm1L9QU9Et5OXov17l3d+pHuq/1kpCyV2W7r8lFTqryc7sv9CR02lvNuW/GPmafS5O5L8BWTm3g9Dkvzv4xrom5ee/pQlysjtd8r/ONARgW8Ltv87GDBZvEOm/2hzuR55G5L/jlKy48gfovzDNlgQvweq/EvQ7HYXm7r/vhzYGuU3vvx6MMehWL+m/cF6E0FPA67+m/tBoYJLWvwxerY5P8eO/2X2YHhGY6r8xGlhexu/bv95TmHLAeOa/iNi1GsRF5b/B47MELrHov9zd+XuLLOe/ID/NOn0R7L+4udLjL6brv0DtSJJfaN2/05SZKVGy478T1cv58nPov9RFoG9MZ+i/Hy2Ma8sV8b+k2hcZlvLxv2a6X2hOnOi/myshvEfz7L+QvaeFlYzrv65Ai5vGU+O/heNuNmFV77+16X9sTznnvw==",
          "dtype": "f8"
         },
         "xaxis": "x2",
         "y": {
          "bdata": "Vtv0dSBImD8iIsGFj3fSP3nD9jqes84/JJepD0tJtT+FCnv1UYvUP9vsW04+Mtw/z3NCdo32sT98H5KWXTK2P1k2L/AnQNs/hrfvmFiF0D+/pNIbennTPwlnIgdImLU/C95mXHYv3j8vyn69caOXP07THv6ZA7k/yJ3KAb471j9WZNlZA2G3P5Ifs4glh6w/DqPSve8Gvr9+g7vjulypP27ad7T90uU/RTsWOAaoxz+sSCB54Je7P95pOpBub7K/vHBz826FkD+Oxz0P3jrBPw6p4y+AItC/VDLxIT/I3z/MS2+3VL67P6fNX8AI49k/zxlTI6Aizz9JcNT8WCbVP1RPTUy31cI/wq6NaCIeyj8+dCzBBqDoP1Gmdgsdmts/1lVVuyh3tj/nh0BTkdLXP6C68yqwGdK/v74R+8HQ1D/EVoRvenLjP33QjD3lRNw/YysZLZ4MmD/fYPHiq/bJPzgDfLU6+t8/07EBjWhD2T/9EqNBlafSP877o1anc8Q/bwhUBBt6iL88DWIGU32ePw==",
          "dtype": "f8"
         },
         "yaxis": "y2"
        },
        {
         "legendgroup": "2",
         "marker": {
          "color": "#00CC96"
         },
         "mode": "markers",
         "name": "2",
         "showlegend": false,
         "type": "scatter",
         "x": {
          "bdata": "rnqjs6Cevj/siLmmdVHHvxmqZapJEMq/jiI3dGY92r9w4g9MgfbTv2lZaDI+qKI/0bDf4An85b+LAfKdMunGP7wovXIle+K/tyYxrBDjyb8Xle3ObSPbv/MHEEAF6cS/pCxwxkpe2r/J8h1Xk5CjP3/RgEKtc8i/1N/xpnj91791/JlGKdK8P0xOw4RYDNG/mIqtPHy5xb8PXrTyklu7v4nNmqazDte/P0VpTMGj0r90ReiamofQv0D92yj8xMW/TtX2iQv64r/BAJooB4O+v3mITXUOsNW/19Q0l75S478oTRJkntXrvy8URLEJ592/VxEmi3e14L/cDfIGNavav7ciqc7wg9i/GAjiqAamsD+rh1k2bOGWP0AB/Yfd4NG/KFT652NF3b9iuC4+CbrXv+L9Nqt9oMy/IaL1QrGexz+6pt/+cWK5v6BMEd9ndty/KLZEC/6517/XAvEpCPyHP/PA5CLPIMa/v2I23Jbf1r9tbkYgC5LQvxC7kyc3qd+/Rif65HtJtL/cXlvhP1jevw==",
          "dtype": "f8"
         },
         "xaxis": "x2",
         "y": {
          "bdata": "agZOtuXk1D+KF9xwfNzdP58psqWx174/MKwHaSdu2T9aqxC4L1LAPy4xKoVhTdE/qik0Ynrldr8Bvih/sMHIP4RwEK0GQN0/WUulMyCh5D+DEJg9aA7SP12YnQsYrsc//6FUR/bGtT8sSHhhbWbRP9MVBQmGfug/BGiObayKuj9a9sZMP5jCP1rWJpr6Q+Q/Qu16IGaYwj867mzI7RbjP6WDm5mzxME/Avkmua5lwT8Pz1b6lsTUP9QlJF2klNQ/iE+2H2COvr9eq6YWo0nPP985bfPJXeA/uyVEX4EMxj/s0n1WO0fQP2po1UQVM9U/eK5M/LfSkb8+5w8YKWjMP6OOrkTp8sw/ObT3i5Qf4j/Hlwat+13PP8XnVxiTM9M/J4Vc7UZm0j88hqPH/sDfP46h3wn5vq4/9bTHBIczyT+jj2L4SbOaP6L/czFMCIe/qax8i9RftD+zORq1c8LXPwls337nW9E/DfZE2Idk0j8jS8kq4cZyP+qZZ+AxvdQ/2+xQSg3k1T/LbPFFQhPYPw==",
          "dtype": "f8"
         },
         "yaxis": "y2"
        },
        {
         "legendgroup": "3",
         "marker": {
          "color": "#AB63FA"
         },
         "mode": "markers",
         "name": "3",
         "showlegend": false,
         "type": "scatter",
         "x": {
          "bdata": "OSb4glUF1T8A4Toj00zVP367qzFBeNI/lvT1cq7l2z/Rz3X1ZXzhP506E7D+NdI/RBhQTMY51j9X1tVpSoPDP+smRQ+jlbQ/vL9TLbgZyb9jAdFlfNHTP875NH/MpdM/tBUdSEAC1z/Whjvq/jHVP+Y4XEXkh9M/zIv/m6pzyb+pFzsxvWrCP9y1uiGRP9Q/u9Beofd7vj/BWr7YxCm/v6UYyCHcHNk/gFOT/h7NvD9CxKBKfobWPwWrVUqcqtE/CP0AX67n1z9R5gq+RPSfP2tOEmw/SdG/q3oQ8loUzT8Df+CF067bP1cZ54nDB7O/nAIxndbFvz/rDb3qSw/Tv4SQZxn67MM/x9OQ9TuRhz8AHfGg1FHQP+spMx0OaLy/jh3SmpOt6T8kOW13fLm6v21jgUj9Pdc/CCrHnslaoD/xrQZdnunjPyfVElCSaHk/JDOabzU70T83fLWh7kO5P5sh2qNpw9A/JvWv1mgh0T9TBTdUWCvLP++nzCpY7cw/tiY2bHiZz7+dwo2DW5ScPw==",
          "dtype": "f8"
         },
         "xaxis": "x2",
         "y": {
          "bdata": "amb11V748L/lQi4qVBjmv2tXvZAWxdK/cjpvWnyC37/nXTWzMn/qv3AEH9EVpu2/6nzOCzAe6r9BhPtbEGzpv8QjFznVtu+/gM64efJ37793qHTZZlDsvwnpPBKccu2/8yWgvJyp9L9r99OaNrDtv6FOz3Abru2/K2vmznFF67/csmeKV7Lwv7m33nHG3eW/wgzo48LZ5r9FtTMS+3jpv5AEXI4TrO2/8iL60eBE8L8lONwZVPDlv/elaZ3Qe+S/mVrAEdCa7b+k4kYj9n3qv45TPuwxOfG/co7/Nz5r7L8f7ueXRgTxvzTjGkiUeOq/K7TfY13p4b9+DoAibjP0v/mnt1XBWe2/55rb0gYH3r/fKT0dNVjzv/3j9aX0ZvK/4NTkbY254b/q8fyuOJTxv6wjY9l3iu2/hweZfjuA6b8KuofWH9X2v49yrpubcNi//0q7zjHf7L/IbtYIuL3vvz29JMtnK+2/Ekz877ne7r+PJLdv8Lryv0UcPozGAuy/arwavRRa4L/nO+Llnqbsvw==",
          "dtype": "f8"
         },
         "yaxis": "y2"
        },
        {
         "legendgroup": "0",
         "marker": {
          "color": "#636EFA"
         },
         "mode": "markers",
         "name": "0",
         "showlegend": false,
         "type": "scatter",
         "x": {
          "bdata": "hjKeuyM0yb+L14i45z3Zv+Chrw9lVcS/DDuyJivVwD/fNIWG23rIvzzQMCCdWc4/YmFkn5L8xT+HTHJG61jQv4M/5MMtlo8/ENRtORSU0b+kFym4mWfRv2Ha+SNvEMi/nSsXnFlIy79SFKmqt3zHP5GGd9pKpas/tADHKqi8yr+i5qfgbhazvxvKLt9Jf6g/P0bn1e42wD8pGf4vpyTPv3hRYFU+XdO/mv1IjfQP0b+vMi5XJSLRv6dDftkI8KQ/K8hORDQbw79qd2p8h6CCP+eGA3HXMtS/39zriC5osz+ed1saFF3hv6JGVZcRacq/t9+79Butsj8RH4sTR86tvwv4GEZfWaw/JFkyOFqtxj/JtjN8awW4P+gu2sEkc54/GpmP0/fq3b+lr3DwXi2/vy9EQu9Zj8+/+L2Ln1sSob9CHw585vrav4U1EJeMRsA/UE8r8dcxr78fzto0EHzTP83tfBGen7y/78vJ1jbZnD89d77dIDvFv0mIyqdWUrA/bSgO1D+z0r/0trlEX0WiPw==",
          "dtype": "f8"
         },
         "xaxis": "x3",
         "y": {
          "bdata": "CUTjXPcW2b/ZHEfMzUrbv5NHlNCT0eK/3XfYI0J617+DKHssXfrhv/EijzoxIda//3/pCFXs0r/DD5t7k2zmv5JWmrLnIue//mM9Da4K479kFz2aU9jOv+lyw08wPMi/8Wtz+uYT479y3L4i/mvdvxdJur93nN2/GQQ8XhTE0b9AflCe+fvPv+8JiN7mI+G/EcVhSJ402r/m7Imjho/lv1x1iIakhN+/93YEDglj5L+sYSqJPQ/gv6vCjd+UxeK/ISbxTXFk079n9Jpc7vjYvwUn6BHAoOC/ieIotMEf4b9ONyHFQnnavxkGFzWWiOW/Q4J/Ah3z3r92KYB1w8vYvzYvJL4v1+a/tYdpDVW12b9Awg5P+xrjv8TRPKi43NS/4RVnQpObw79IY1IZowXiv4tzwWMg1+G/ch0z4Mht5b83BvkLz0rgv/yZKmc3iOK/GUBk9/GW4799kbDmLe/fv7f9wUfwkeK/HHyCehrF3r8KElhQu4XTvz/5IcOclN6/nDVr/h+qzb/LUvHu0bPrvw==",
          "dtype": "f8"
         },
         "yaxis": "y3"
        },
        {
         "legendgroup": "1",
         "marker": {
          "color": "#EF553B"
         },
         "mode": "markers",
         "name": "1",
         "showlegend": false,
         "type": "scatter",
         "x": {
          "bdata": "JsrlmKL/8z+E6FwmV2znP+jlyJtWIvE/g1Aipe237T92f9oiV1fjP2bYg0TjqPA/RBafR0pk7T/mnmg7lUXlPxytHnEM6u0/Ul4tvvZt4j/P4HsOexLvPwGfL+geveY/ixu3m2f55j/8j7ABhUrfP9E1+k+ztdU/shsBSoUX8T8QnPZa0h/qP9PijfTuY+s/P4aepYlZ4j8lLY/6pk/uP/cPRcZYGuc/l3T+p7qK5D902JNEkwTpP/chGcKip+Q/B2jB8AxL4T+TCG+N4YXkPwXXknzqAvE/M3kcBIgP7j+GuuvfKpzcP7mhd3BfVOg/fKFP2+uT7T87rxBxrrfuPw9kIfziq+c/1Ras3GAc4z8YMZULDNnvPwzqz44NMuQ/xJr7bHZO4z/kKqsS+mznPzMqBNEGrOE/uL2qO1868D+zd6unISfnP+9M9bek7OA/KtLxPkDp4T/n2IjzTGXhP7AePAAgN+s/V3ZMuhTl7j89F9Kvp1PpP9woE9PByuk/nO2iAwhB7T+aySuPtcThPw==",
          "dtype": "f8"
         },
         "xaxis": "x3",
         "y": {
          "bdata": "Vtv0dSBImD8iIsGFj3fSP3nD9jqes84/JJepD0tJtT+FCnv1UYvUP9vsW04+Mtw/z3NCdo32sT98H5KWXTK2P1k2L/AnQNs/hrfvmFiF0D+/pNIbennTPwlnIgdImLU/C95mXHYv3j8vyn69caOXP07THv6ZA7k/yJ3KAb471j9WZNlZA2G3P5Ifs4glh6w/DqPSve8Gvr9+g7vjulypP27ad7T90uU/RTsWOAaoxz+sSCB54Je7P95pOpBub7K/vHBz826FkD+Oxz0P3jrBPw6p4y+AItC/VDLxIT/I3z/MS2+3VL67P6fNX8AI49k/zxlTI6Aizz9JcNT8WCbVP1RPTUy31cI/wq6NaCIeyj8+dCzBBqDoP1Gmdgsdmts/1lVVuyh3tj/nh0BTkdLXP6C68yqwGdK/v74R+8HQ1D/EVoRvenLjP33QjD3lRNw/YysZLZ4MmD/fYPHiq/bJPzgDfLU6+t8/07EBjWhD2T/9EqNBlafSP877o1anc8Q/bwhUBBt6iL88DWIGU32ePw==",
          "dtype": "f8"
         },
         "yaxis": "y3"
        },
        {
         "legendgroup": "2",
         "marker": {
          "color": "#00CC96"
         },
         "mode": "markers",
         "name": "2",
         "showlegend": false,
         "type": "scatter",
         "x": {
          "bdata": "7i8gxQFE5L9COzo8+wnqv2hYL2J+Iem/6GJUKOwY8b+nveFL+9Prv+lz2ApSSfC//bPR2bNp6L+K68knIOXxv1l+UAxDDPG/jFx01gDV7b+q7CliYBXjvwNY1Rweqeq/aQqZXqnj77/GWBkM31vrv4Qxo+9dzPC/JBSMdXP07r+dhuLpw8bjvzDKbHWXzvC/C6xrEL0/87/F3voUh0Hmv6hHGkmNsOu/isDDMw716b/OyfX92Zzmv6xdC6cOzuy/hlu7GH1u67+5oQxJGZLjv0OvAEdPMOi/d4xcdrOX8r9+yXEO5Ffrv+3OeYvoYfG/H4GZRzMS6b8Big0HSODiv6/borPtDvG/2FPEmpol4b+h/iRudFzsv8fYiubGfeK/22rrlhwd6b9XlOaBvcbov3ViPrtwm+a/EJl0He+P6b969Rg8Rvzrv7/AKGd6Seq/QjUK/TuX8b8/WG0D1nXyv1laKFWEaOq/w1iG0b2l6r9oqlvqPa3tv9xhOnqcJvC/iMmtQLMO67+1hgKGrITsvw==",
          "dtype": "f8"
         },
         "xaxis": "x3",
         "y": {
          "bdata": "agZOtuXk1D+KF9xwfNzdP58psqWx174/MKwHaSdu2T9aqxC4L1LAPy4xKoVhTdE/qik0Ynrldr8Bvih/sMHIP4RwEK0GQN0/WUulMyCh5D+DEJg9aA7SP12YnQsYrsc//6FUR/bGtT8sSHhhbWbRP9MVBQmGfug/BGiObayKuj9a9sZMP5jCP1rWJpr6Q+Q/Qu16IGaYwj867mzI7RbjP6WDm5mzxME/Avkmua5lwT8Pz1b6lsTUP9QlJF2klNQ/iE+2H2COvr9eq6YWo0nPP985bfPJXeA/uyVEX4EMxj/s0n1WO0fQP2po1UQVM9U/eK5M/LfSkb8+5w8YKWjMP6OOrkTp8sw/ObT3i5Qf4j/Hlwat+13PP8XnVxiTM9M/J4Vc7UZm0j88hqPH/sDfP46h3wn5vq4/9bTHBIczyT+jj2L4SbOaP6L/czFMCIe/qax8i9RftD+zORq1c8LXPwls337nW9E/DfZE2Idk0j8jS8kq4cZyP+qZZ+AxvdQ/2+xQSg3k1T/LbPFFQhPYPw==",
          "dtype": "f8"
         },
         "yaxis": "y3"
        },
        {
         "legendgroup": "3",
         "marker": {
          "color": "#AB63FA"
         },
         "mode": "markers",
         "name": "3",
         "showlegend": false,
         "type": "scatter",
         "x": {
          "bdata": "/z0RUK5n6r+xQ3ng9Svuvzp0oDY5Ru+/DhZASnaS579pq5aeb1Tlv3aZRDUni/C/coNvGhF68L+OWLfRlWrpv3LdsKnZgO2/jIAx12HQ479J5atcGRHtv5N4FjUXPea/l4Y5SBuY6L+uVNOXZzvhv1X+L7mJfPC/3BYW56BH8b8I8miq2SXov8FgaBz9iO2/u0Fqa2Ie8b92upMrOI3kv7oUNxP7Re2/UthQHPnB6r+xeIgaHDPjv2zBtlikhNa/oOOzHMcu8L8TBtq3qEjpv41xc1h8X/G/zzFnilU957/CCMBIk7vtv8yDL4HbzuW/Sh1hhVmQ8r+1effU5ILnv5BwKjPrg+2/J1l+HYIu8r+3fOSg8A/kv6hUIP5p0ui/xmP9MrDj6L8CV69zrWrzvxR8F1X7PuO/W1FuWBU76b8rjMALFvnhv1gnFjayPOy/J+u3IhUJ67+mO9rWbSjlv4FFSbZIgdy/NvKw78Je8L/5LYeUXCHyv5ZBSdyFs+i/UICQQ+zO4r+yvG9V0a3xvw==",
          "dtype": "f8"
         },
         "xaxis": "x3",
         "y": {
          "bdata": "amb11V748L/lQi4qVBjmv2tXvZAWxdK/cjpvWnyC37/nXTWzMn/qv3AEH9EVpu2/6nzOCzAe6r9BhPtbEGzpv8QjFznVtu+/gM64efJ37793qHTZZlDsvwnpPBKccu2/8yWgvJyp9L9r99OaNrDtv6FOz3Abru2/K2vmznFF67/csmeKV7Lwv7m33nHG3eW/wgzo48LZ5r9FtTMS+3jpv5AEXI4TrO2/8iL60eBE8L8lONwZVPDlv/elaZ3Qe+S/mVrAEdCa7b+k4kYj9n3qv45TPuwxOfG/co7/Nz5r7L8f7ueXRgTxvzTjGkiUeOq/K7TfY13p4b9+DoAibjP0v/mnt1XBWe2/55rb0gYH3r/fKT0dNVjzv/3j9aX0ZvK/4NTkbY254b/q8fyuOJTxv6wjY9l3iu2/hweZfjuA6b8KuofWH9X2v49yrpubcNi//0q7zjHf7L/IbtYIuL3vvz29JMtnK+2/Ekz877ne7r+PJLdv8Lryv0UcPozGAuy/arwavRRa4L/nO+Llnqbsvw==",
          "dtype": "f8"
         },
         "yaxis": "y3"
        }
       ],
       "layout": {
        "height": 400,
        "template": {
         "data": {
          "bar": [
           {
            "error_x": {
             "color": "#2a3f5f"
            },
            "error_y": {
             "color": "#2a3f5f"
            },
            "marker": {
             "line": {
              "color": "#E5ECF6",
              "width": 0.5
             },
             "pattern": {
              "fillmode": "overlay",
              "size": 10,
              "solidity": 0.2
             }
            },
            "type": "bar"
           }
          ],
          "barpolar": [
           {
            "marker": {
             "line": {
              "color": "#E5ECF6",
              "width": 0.5
             },
             "pattern": {
              "fillmode": "overlay",
              "size": 10,
              "solidity": 0.2
             }
            },
            "type": "barpolar"
           }
          ],
          "carpet": [
           {
            "aaxis": {
             "endlinecolor": "#2a3f5f",
             "gridcolor": "white",
             "linecolor": "white",
             "minorgridcolor": "white",
             "startlinecolor": "#2a3f5f"
            },
            "baxis": {
             "endlinecolor": "#2a3f5f",
             "gridcolor": "white",
             "linecolor": "white",
             "minorgridcolor": "white",
             "startlinecolor": "#2a3f5f"
            },
            "type": "carpet"
           }
          ],
          "choropleth": [
           {
            "colorbar": {
             "outlinewidth": 0,
             "ticks": ""
            },
            "type": "choropleth"
           }
          ],
          "contour": [
           {
            "colorbar": {
             "outlinewidth": 0,
             "ticks": ""
            },
            "colorscale": [
             [
              0,
              "#0d0887"
             ],
             [
              0.1111111111111111,
              "#46039f"
             ],
             [
              0.2222222222222222,
              "#7201a8"
             ],
             [
              0.3333333333333333,
              "#9c179e"
             ],
             [
              0.4444444444444444,
              "#bd3786"
             ],
             [
              0.5555555555555556,
              "#d8576b"
             ],
             [
              0.6666666666666666,
              "#ed7953"
             ],
             [
              0.7777777777777778,
              "#fb9f3a"
             ],
             [
              0.8888888888888888,
              "#fdca26"
             ],
             [
              1,
              "#f0f921"
             ]
            ],
            "type": "contour"
           }
          ],
          "contourcarpet": [
           {
            "colorbar": {
             "outlinewidth": 0,
             "ticks": ""
            },
            "type": "contourcarpet"
           }
          ],
          "heatmap": [
           {
            "colorbar": {
             "outlinewidth": 0,
             "ticks": ""
            },
            "colorscale": [
             [
              0,
              "#0d0887"
             ],
             [
              0.1111111111111111,
              "#46039f"
             ],
             [
              0.2222222222222222,
              "#7201a8"
             ],
             [
              0.3333333333333333,
              "#9c179e"
             ],
             [
              0.4444444444444444,
              "#bd3786"
             ],
             [
              0.5555555555555556,
              "#d8576b"
             ],
             [
              0.6666666666666666,
              "#ed7953"
             ],
             [
              0.7777777777777778,
              "#fb9f3a"
             ],
             [
              0.8888888888888888,
              "#fdca26"
             ],
             [
              1,
              "#f0f921"
             ]
            ],
            "type": "heatmap"
           }
          ],
          "histogram": [
           {
            "marker": {
             "pattern": {
              "fillmode": "overlay",
              "size": 10,
              "solidity": 0.2
             }
            },
            "type": "histogram"
           }
          ],
          "histogram2d": [
           {
            "colorbar": {
             "outlinewidth": 0,
             "ticks": ""
            },
            "colorscale": [
             [
              0,
              "#0d0887"
             ],
             [
              0.1111111111111111,
              "#46039f"
             ],
             [
              0.2222222222222222,
              "#7201a8"
             ],
             [
              0.3333333333333333,
              "#9c179e"
             ],
             [
              0.4444444444444444,
              "#bd3786"
             ],
             [
              0.5555555555555556,
              "#d8576b"
             ],
             [
              0.6666666666666666,
              "#ed7953"
             ],
             [
              0.7777777777777778,
              "#fb9f3a"
             ],
             [
              0.8888888888888888,
              "#fdca26"
             ],
             [
              1,
              "#f0f921"
             ]
            ],
            "type": "histogram2d"
           }
          ],
          "histogram2dcontour": [
           {
            "colorbar": {
             "outlinewidth": 0,
             "ticks": ""
            },
            "colorscale": [
             [
              0,
              "#0d0887"
             ],
             [
              0.1111111111111111,
              "#46039f"
             ],
             [
              0.2222222222222222,
              "#7201a8"
             ],
             [
              0.3333333333333333,
              "#9c179e"
             ],
             [
              0.4444444444444444,
              "#bd3786"
             ],
             [
              0.5555555555555556,
              "#d8576b"
             ],
             [
              0.6666666666666666,
              "#ed7953"
             ],
             [
              0.7777777777777778,
              "#fb9f3a"
             ],
             [
              0.8888888888888888,
              "#fdca26"
             ],
             [
              1,
              "#f0f921"
             ]
            ],
            "type": "histogram2dcontour"
           }
          ],
          "mesh3d": [
           {
            "colorbar": {
             "outlinewidth": 0,
             "ticks": ""
            },
            "type": "mesh3d"
           }
          ],
          "parcoords": [
           {
            "line": {
             "colorbar": {
              "outlinewidth": 0,
              "ticks": ""
             }
            },
            "type": "parcoords"
           }
          ],
          "pie": [
           {
            "automargin": true,
            "type": "pie"
           }
          ],
          "scatter": [
           {
            "fillpattern": {
             "fillmode": "overlay",
             "size": 10,
             "solidity": 0.2
            },
            "type": "scatter"
           }
          ],
          "scatter3d": [
           {
            "line": {
             "colorbar": {
              "outlinewidth": 0,
              "ticks": ""
             }
            },
            "marker": {
             "colorbar": {
              "outlinewidth": 0,
              "ticks": ""
             }
            },
            "type": "scatter3d"
           }
          ],
          "scattercarpet": [
           {
            "marker": {
             "colorbar": {
              "outlinewidth": 0,
              "ticks": ""
             }
            },
            "type": "scattercarpet"
           }
          ],
          "scattergeo": [
           {
            "marker": {
             "colorbar": {
              "outlinewidth": 0,
              "ticks": ""
             }
            },
            "type": "scattergeo"
           }
          ],
          "scattergl": [
           {
            "marker": {
             "colorbar": {
              "outlinewidth": 0,
              "ticks": ""
             }
            },
            "type": "scattergl"
           }
          ],
          "scattermap": [
           {
            "marker": {
             "colorbar": {
              "outlinewidth": 0,
              "ticks": ""
             }
            },
            "type": "scattermap"
           }
          ],
          "scattermapbox": [
           {
            "marker": {
             "colorbar": {
              "outlinewidth": 0,
              "ticks": ""
             }
            },
            "type": "scattermapbox"
           }
          ],
          "scatterpolar": [
           {
            "marker": {
             "colorbar": {
              "outlinewidth": 0,
              "ticks": ""
             }
            },
            "type": "scatterpolar"
           }
          ],
          "scatterpolargl": [
           {
            "marker": {
             "colorbar": {
              "outlinewidth": 0,
              "ticks": ""
             }
            },
            "type": "scatterpolargl"
           }
          ],
          "scatterternary": [
           {
            "marker": {
             "colorbar": {
              "outlinewidth": 0,
              "ticks": ""
             }
            },
            "type": "scatterternary"
           }
          ],
          "surface": [
           {
            "colorbar": {
             "outlinewidth": 0,
             "ticks": ""
            },
            "colorscale": [
             [
              0,
              "#0d0887"
             ],
             [
              0.1111111111111111,
              "#46039f"
             ],
             [
              0.2222222222222222,
              "#7201a8"
             ],
             [
              0.3333333333333333,
              "#9c179e"
             ],
             [
              0.4444444444444444,
              "#bd3786"
             ],
             [
              0.5555555555555556,
              "#d8576b"
             ],
             [
              0.6666666666666666,
              "#ed7953"
             ],
             [
              0.7777777777777778,
              "#fb9f3a"
             ],
             [
              0.8888888888888888,
              "#fdca26"
             ],
             [
              1,
              "#f0f921"
             ]
            ],
            "type": "surface"
           }
          ],
          "table": [
           {
            "cells": {
             "fill": {
              "color": "#EBF0F8"
             },
             "line": {
              "color": "white"
             }
            },
            "header": {
             "fill": {
              "color": "#C8D4E3"
             },
             "line": {
              "color": "white"
             }
            },
            "type": "table"
           }
          ]
         },
         "layout": {
          "annotationdefaults": {
           "arrowcolor": "#2a3f5f",
           "arrowhead": 0,
           "arrowwidth": 1
          },
          "autotypenumbers": "strict",
          "coloraxis": {
           "colorbar": {
            "outlinewidth": 0,
            "ticks": ""
           }
          },
          "colorscale": {
           "diverging": [
            [
             0,
             "#8e0152"
            ],
            [
             0.1,
             "#c51b7d"
            ],
            [
             0.2,
             "#de77ae"
            ],
            [
             0.3,
             "#f1b6da"
            ],
            [
             0.4,
             "#fde0ef"
            ],
            [
             0.5,
             "#f7f7f7"
            ],
            [
             0.6,
             "#e6f5d0"
            ],
            [
             0.7,
             "#b8e186"
            ],
            [
             0.8,
             "#7fbc41"
            ],
            [
             0.9,
             "#4d9221"
            ],
            [
             1,
             "#276419"
            ]
           ],
           "sequential": [
            [
             0,
             "#0d0887"
            ],
            [
             0.1111111111111111,
             "#46039f"
            ],
            [
             0.2222222222222222,
             "#7201a8"
            ],
            [
             0.3333333333333333,
             "#9c179e"
            ],
            [
             0.4444444444444444,
             "#bd3786"
            ],
            [
             0.5555555555555556,
             "#d8576b"
            ],
            [
             0.6666666666666666,
             "#ed7953"
            ],
            [
             0.7777777777777778,
             "#fb9f3a"
            ],
            [
             0.8888888888888888,
             "#fdca26"
            ],
            [
             1,
             "#f0f921"
            ]
           ],
           "sequentialminus": [
            [
             0,
             "#0d0887"
            ],
            [
             0.1111111111111111,
             "#46039f"
            ],
            [
             0.2222222222222222,
             "#7201a8"
            ],
            [
             0.3333333333333333,
             "#9c179e"
            ],
            [
             0.4444444444444444,
             "#bd3786"
            ],
            [
             0.5555555555555556,
             "#d8576b"
            ],
            [
             0.6666666666666666,
             "#ed7953"
            ],
            [
             0.7777777777777778,
             "#fb9f3a"
            ],
            [
             0.8888888888888888,
             "#fdca26"
            ],
            [
             1,
             "#f0f921"
            ]
           ]
          },
          "colorway": [
           "#636efa",
           "#EF553B",
           "#00cc96",
           "#ab63fa",
           "#FFA15A",
           "#19d3f3",
           "#FF6692",
           "#B6E880",
           "#FF97FF",
           "#FECB52"
          ],
          "font": {
           "color": "#2a3f5f"
          },
          "geo": {
           "bgcolor": "white",
           "lakecolor": "white",
           "landcolor": "#E5ECF6",
           "showlakes": true,
           "showland": true,
           "subunitcolor": "white"
          },
          "hoverlabel": {
           "align": "left"
          },
          "hovermode": "closest",
          "mapbox": {
           "style": "light"
          },
          "paper_bgcolor": "white",
          "plot_bgcolor": "#E5ECF6",
          "polar": {
           "angularaxis": {
            "gridcolor": "white",
            "linecolor": "white",
            "ticks": ""
           },
           "bgcolor": "#E5ECF6",
           "radialaxis": {
            "gridcolor": "white",
            "linecolor": "white",
            "ticks": ""
           }
          },
          "scene": {
           "xaxis": {
            "backgroundcolor": "#E5ECF6",
            "gridcolor": "white",
            "gridwidth": 2,
            "linecolor": "white",
            "showbackground": true,
            "ticks": "",
            "zerolinecolor": "white"
           },
           "yaxis": {
            "backgroundcolor": "#E5ECF6",
            "gridcolor": "white",
            "gridwidth": 2,
            "linecolor": "white",
            "showbackground": true,
            "ticks": "",
            "zerolinecolor": "white"
           },
           "zaxis": {
            "backgroundcolor": "#E5ECF6",
            "gridcolor": "white",
            "gridwidth": 2,
            "linecolor": "white",
            "showbackground": true,
            "ticks": "",
            "zerolinecolor": "white"
           }
          },
          "shapedefaults": {
           "line": {
            "color": "#2a3f5f"
           }
          },
          "ternary": {
           "aaxis": {
            "gridcolor": "white",
            "linecolor": "white",
            "ticks": ""
           },
           "baxis": {
            "gridcolor": "white",
            "linecolor": "white",
            "ticks": ""
           },
           "bgcolor": "#E5ECF6",
           "caxis": {
            "gridcolor": "white",
            "linecolor": "white",
            "ticks": ""
           }
          },
          "title": {
           "x": 0.05
          },
          "xaxis": {
           "automargin": true,
           "gridcolor": "white",
           "linecolor": "white",
           "ticks": "",
           "title": {
            "standoff": 15
           },
           "zerolinecolor": "white",
           "zerolinewidth": 2
          },
          "yaxis": {
           "automargin": true,
           "gridcolor": "white",
           "linecolor": "white",
           "ticks": "",
           "title": {
            "standoff": 15
           },
           "zerolinecolor": "white",
           "zerolinewidth": 2
          }
         }
        },
        "title": {
         "text": "Feature Pairs Colored by Cluster"
        },
        "width": 900,
        "xaxis": {
         "anchor": "y",
         "domain": [
          0,
          0.2888888888888889
         ],
         "showticklabels": false,
         "title": {
          "standoff": 10,
          "text": "feature1"
         }
        },
        "xaxis2": {
         "anchor": "y2",
         "domain": [
          0.35555555555555557,
          0.6444444444444445
         ],
         "showticklabels": false,
         "title": {
          "standoff": 10,
          "text": "feature1"
         }
        },
        "xaxis3": {
         "anchor": "y3",
         "domain": [
          0.7111111111111111,
          1
         ],
         "showticklabels": false,
         "title": {
          "standoff": 10,
          "text": "feature2"
         }
        },
        "yaxis": {
         "anchor": "x",
         "domain": [
          0,
          1
         ],
         "showticklabels": false,
         "title": {
          "standoff": 5,
          "text": "feature2"
         }
        },
        "yaxis2": {
         "anchor": "x2",
         "domain": [
          0,
          1
         ],
         "showticklabels": false,
         "title": {
          "standoff": 5,
          "text": "feature3"
         }
        },
        "yaxis3": {
         "anchor": "x3",
         "domain": [
          0,
          1
         ],
         "showticklabels": false,
         "title": {
          "standoff": 5,
          "text": "feature3"
         }
        }
       }
      }
     },
     "metadata": {},
     "output_type": "display_data"
    }
   ],
   "source": [
    "fig = make_subplots(rows=1, cols=3)\n",
    "\n",
    "clusters = list(df[\"cluster\"].unique())\n",
    "clusters.sort()\n",
    "colors = px.colors.qualitative.Plotly\n",
    "\n",
    "# Subplot 1: 2 + 1\n",
    "for i, c in enumerate(clusters):\n",
    "    subset = df[df['cluster'] == c]\n",
    "    fig.add_trace(go.Scatter(\n",
    "        x=subset[\"feature1\"], \n",
    "        y=subset[\"feature2\"], \n",
    "        mode='markers',\n",
    "        name=c,\n",
    "        legendgroup=c,\n",
    "        marker=dict(color=colors[i]),\n",
    "    ), row=1, col=1)\n",
    "    \n",
    "    \n",
    "fig.update_xaxes(title_text=\"feature1\", row=1, col=1, title_standoff=10, showticklabels=False)\n",
    "fig.update_yaxes(title_text=\"feature2\", row=1, col=1, title_standoff=5, showticklabels=False)\n",
    "\n",
    "# Subplot 2: 3 + 1\n",
    "for i, c in enumerate(clusters):\n",
    "    subset = df[df['cluster'] == c]\n",
    "    fig.add_trace(go.Scatter(\n",
    "        x=subset[\"feature1\"], \n",
    "        y=subset[\"feature3\"], \n",
    "        mode='markers',\n",
    "        name=c,\n",
    "        legendgroup=c,\n",
    "        showlegend=False,\n",
    "        marker=dict(color=colors[i]),\n",
    "    ), row=1, col=2)\n",
    "    \n",
    "fig.update_xaxes(title_text=\"feature1\", row=1, col=2, title_standoff=10, showticklabels=False)\n",
    "fig.update_yaxes(title_text=\"feature3\", row=1, col=2, title_standoff=5, showticklabels=False)\n",
    "    \n",
    "# Subplot 3: 3 + 2\n",
    "for i, c in enumerate(clusters):\n",
    "    subset = df[df['cluster'] == c]\n",
    "    fig.add_trace(go.Scatter(\n",
    "        x=subset[\"feature2\"], \n",
    "        y=subset[\"feature3\"],  \n",
    "        mode='markers',\n",
    "        name=c,\n",
    "        legendgroup=c,\n",
    "        showlegend=False,\n",
    "        marker=dict(color=colors[i]),\n",
    "    ), row=1, col=3)\n",
    "\n",
    "fig.update_xaxes(title_text=\"feature2\", row=1, col=3, title_standoff=10, showticklabels=False)\n",
    "fig.update_yaxes(title_text=\"feature3\", row=1, col=3, title_standoff=5, showticklabels=False)\n",
    "\n",
    "fig.update_layout(height=400, width=900, title_text=\"Feature Pairs Colored by Cluster\")\n",
    "\n",
    "fig.show()"
   ]
  },
  {
   "cell_type": "code",
   "execution_count": 103,
   "id": "e4d56dc8",
   "metadata": {},
   "outputs": [
    {
     "data": {
      "application/vnd.plotly.v1+json": {
       "config": {
        "plotlyServerURL": "https://plot.ly"
       },
       "data": [
        {
         "hovertemplate": "cluster=0<br>feature1=%{x}<br>feature2=%{y}<br>feature3=%{z}<extra></extra>",
         "legendgroup": "0",
         "marker": {
          "color": "#636efa",
          "symbol": "circle"
         },
         "mode": "markers",
         "name": "0",
         "scene": "scene",
         "showlegend": true,
         "type": "scatter3d",
         "x": {
          "bdata": "Td31M1Ts5r9G6DlTNPjAvxrkCKpvD+S/PxDr+2JV479eevErg7TWvyi+z4fzAYG/atBSkbjB5r/H20P82czbvzeQwsPLeq6/6GkgJ9J53r9bZxI4sdzjvzbP/Pg+6tW/fXFL/X1g3r/uydm7bP3mv9c2QOvWTNC/gQAMhK8pxr+pOyT4gY7XvwBlc446R+C/2Sh/98ZZuL+aDPbxCk3gv2wPGKtBcOS/9dOMilRf1798pBnlUcnav2a01gTzhM+/pcA35PjB078MHj5K5Jfpvx/eJaiqLeO/eFAg8vPy0b9BVgdwxMjWv+98Q/27BuO/f0Hh4UQY3r+SVVzGWirRv4miqE9ppd6/MnQ2p+1Wur+zSZkxqMrUv1TXVoQOIc2/Mc2UOG5t5L/KpypcSuDOv4jBI6X4tuC/7u1Z5e0907+6QedhQGrhv1gSovaws7Y/QZYtN2oUzb8D5TSRrRTTv7wf42noMtm/leECgSa14L9LBgwQ9Yvgv8gYo8IOqdG/QZGqjGbd0r/1h+/a/0i6vw==",
          "dtype": "f8"
         },
         "y": {
          "bdata": "hjKeuyM0yb+L14i45z3Zv+Chrw9lVcS/DDuyJivVwD/fNIWG23rIvzzQMCCdWc4/YmFkn5L8xT+HTHJG61jQv4M/5MMtlo8/ENRtORSU0b+kFym4mWfRv2Ha+SNvEMi/nSsXnFlIy79SFKmqt3zHP5GGd9pKpas/tADHKqi8yr+i5qfgbhazvxvKLt9Jf6g/P0bn1e42wD8pGf4vpyTPv3hRYFU+XdO/mv1IjfQP0b+vMi5XJSLRv6dDftkI8KQ/K8hORDQbw79qd2p8h6CCP+eGA3HXMtS/39zriC5osz+ed1saFF3hv6JGVZcRacq/t9+79Butsj8RH4sTR86tvwv4GEZfWaw/JFkyOFqtxj/JtjN8awW4P+gu2sEkc54/GpmP0/fq3b+lr3DwXi2/vy9EQu9Zj8+/+L2Ln1sSob9CHw585vrav4U1EJeMRsA/UE8r8dcxr78fzto0EHzTP83tfBGen7y/78vJ1jbZnD89d77dIDvFv0mIyqdWUrA/bSgO1D+z0r/0trlEX0WiPw==",
          "dtype": "f8"
         },
         "z": {
          "bdata": "CUTjXPcW2b/ZHEfMzUrbv5NHlNCT0eK/3XfYI0J617+DKHssXfrhv/EijzoxIda//3/pCFXs0r/DD5t7k2zmv5JWmrLnIue//mM9Da4K479kFz2aU9jOv+lyw08wPMi/8Wtz+uYT479y3L4i/mvdvxdJur93nN2/GQQ8XhTE0b9AflCe+fvPv+8JiN7mI+G/EcVhSJ402r/m7Imjho/lv1x1iIakhN+/93YEDglj5L+sYSqJPQ/gv6vCjd+UxeK/ISbxTXFk079n9Jpc7vjYvwUn6BHAoOC/ieIotMEf4b9ONyHFQnnavxkGFzWWiOW/Q4J/Ah3z3r92KYB1w8vYvzYvJL4v1+a/tYdpDVW12b9Awg5P+xrjv8TRPKi43NS/4RVnQpObw79IY1IZowXiv4tzwWMg1+G/ch0z4Mht5b83BvkLz0rgv/yZKmc3iOK/GUBk9/GW4799kbDmLe/fv7f9wUfwkeK/HHyCehrF3r8KElhQu4XTvz/5IcOclN6/nDVr/h+qzb/LUvHu0bPrvw==",
          "dtype": "f8"
         }
        },
        {
         "hovertemplate": "cluster=1<br>feature1=%{x}<br>feature2=%{y}<br>feature3=%{z}<extra></extra>",
         "legendgroup": "1",
         "marker": {
          "color": "#EF553B",
          "symbol": "circle"
         },
         "mode": "markers",
         "name": "1",
         "scene": "scene",
         "showlegend": true,
         "type": "scatter3d",
         "x": {
          "bdata": "FqvGuN5G6b+ne/1WBZrgv2LyLqE4WOa/XGvM4+mU1r/w9yCmmKrgv8w+kNyZcuS/3fFgF5vg579nI8lmJIDfv5v0qYb/oOy/ea5rO3Wm1L9QU9Et5OXov17l3d+pHuq/1kpCyV2W7r8lFTqryc7sv9CR02lvNuW/GPmafS5O5L8BWTm3g9Dkvzv4xrom5ee/pQlysjtd8r/ONARgW8Ltv87GDBZvEOm/2hzuR55G5L/jlKy48gfovzDNlgQvweq/EvQ7HYXm7r/vhzYGuU3vvx6MMehWL+m/cF6E0FPA67+m/tBoYJLWvwxerY5P8eO/2X2YHhGY6r8xGlhexu/bv95TmHLAeOa/iNi1GsRF5b/B47MELrHov9zd+XuLLOe/ID/NOn0R7L+4udLjL6brv0DtSJJfaN2/05SZKVGy478T1cv58nPov9RFoG9MZ+i/Hy2Ma8sV8b+k2hcZlvLxv2a6X2hOnOi/myshvEfz7L+QvaeFlYzrv65Ai5vGU+O/heNuNmFV77+16X9sTznnvw==",
          "dtype": "f8"
         },
         "y": {
          "bdata": "JsrlmKL/8z+E6FwmV2znP+jlyJtWIvE/g1Aipe237T92f9oiV1fjP2bYg0TjqPA/RBafR0pk7T/mnmg7lUXlPxytHnEM6u0/Ul4tvvZt4j/P4HsOexLvPwGfL+geveY/ixu3m2f55j/8j7ABhUrfP9E1+k+ztdU/shsBSoUX8T8QnPZa0h/qP9PijfTuY+s/P4aepYlZ4j8lLY/6pk/uP/cPRcZYGuc/l3T+p7qK5D902JNEkwTpP/chGcKip+Q/B2jB8AxL4T+TCG+N4YXkPwXXknzqAvE/M3kcBIgP7j+GuuvfKpzcP7mhd3BfVOg/fKFP2+uT7T87rxBxrrfuPw9kIfziq+c/1Ras3GAc4z8YMZULDNnvPwzqz44NMuQ/xJr7bHZO4z/kKqsS+mznPzMqBNEGrOE/uL2qO1868D+zd6unISfnP+9M9bek7OA/KtLxPkDp4T/n2IjzTGXhP7AePAAgN+s/V3ZMuhTl7j89F9Kvp1PpP9woE9PByuk/nO2iAwhB7T+aySuPtcThPw==",
          "dtype": "f8"
         },
         "z": {
          "bdata": "Vtv0dSBImD8iIsGFj3fSP3nD9jqes84/JJepD0tJtT+FCnv1UYvUP9vsW04+Mtw/z3NCdo32sT98H5KWXTK2P1k2L/AnQNs/hrfvmFiF0D+/pNIbennTPwlnIgdImLU/C95mXHYv3j8vyn69caOXP07THv6ZA7k/yJ3KAb471j9WZNlZA2G3P5Ifs4glh6w/DqPSve8Gvr9+g7vjulypP27ad7T90uU/RTsWOAaoxz+sSCB54Je7P95pOpBub7K/vHBz826FkD+Oxz0P3jrBPw6p4y+AItC/VDLxIT/I3z/MS2+3VL67P6fNX8AI49k/zxlTI6Aizz9JcNT8WCbVP1RPTUy31cI/wq6NaCIeyj8+dCzBBqDoP1Gmdgsdmts/1lVVuyh3tj/nh0BTkdLXP6C68yqwGdK/v74R+8HQ1D/EVoRvenLjP33QjD3lRNw/YysZLZ4MmD/fYPHiq/bJPzgDfLU6+t8/07EBjWhD2T/9EqNBlafSP877o1anc8Q/bwhUBBt6iL88DWIGU32ePw==",
          "dtype": "f8"
         }
        },
        {
         "hovertemplate": "cluster=2<br>feature1=%{x}<br>feature2=%{y}<br>feature3=%{z}<extra></extra>",
         "legendgroup": "2",
         "marker": {
          "color": "#00cc96",
          "symbol": "circle"
         },
         "mode": "markers",
         "name": "2",
         "scene": "scene",
         "showlegend": true,
         "type": "scatter3d",
         "x": {
          "bdata": "rnqjs6Cevj/siLmmdVHHvxmqZapJEMq/jiI3dGY92r9w4g9MgfbTv2lZaDI+qKI/0bDf4An85b+LAfKdMunGP7wovXIle+K/tyYxrBDjyb8Xle3ObSPbv/MHEEAF6cS/pCxwxkpe2r/J8h1Xk5CjP3/RgEKtc8i/1N/xpnj91791/JlGKdK8P0xOw4RYDNG/mIqtPHy5xb8PXrTyklu7v4nNmqazDte/P0VpTMGj0r90ReiamofQv0D92yj8xMW/TtX2iQv64r/BAJooB4O+v3mITXUOsNW/19Q0l75S478oTRJkntXrvy8URLEJ592/VxEmi3e14L/cDfIGNavav7ciqc7wg9i/GAjiqAamsD+rh1k2bOGWP0AB/Yfd4NG/KFT652NF3b9iuC4+CbrXv+L9Nqt9oMy/IaL1QrGexz+6pt/+cWK5v6BMEd9ndty/KLZEC/6517/XAvEpCPyHP/PA5CLPIMa/v2I23Jbf1r9tbkYgC5LQvxC7kyc3qd+/Rif65HtJtL/cXlvhP1jevw==",
          "dtype": "f8"
         },
         "y": {
          "bdata": "7i8gxQFE5L9COzo8+wnqv2hYL2J+Iem/6GJUKOwY8b+nveFL+9Prv+lz2ApSSfC//bPR2bNp6L+K68knIOXxv1l+UAxDDPG/jFx01gDV7b+q7CliYBXjvwNY1Rweqeq/aQqZXqnj77/GWBkM31vrv4Qxo+9dzPC/JBSMdXP07r+dhuLpw8bjvzDKbHWXzvC/C6xrEL0/87/F3voUh0Hmv6hHGkmNsOu/isDDMw716b/OyfX92Zzmv6xdC6cOzuy/hlu7GH1u67+5oQxJGZLjv0OvAEdPMOi/d4xcdrOX8r9+yXEO5Ffrv+3OeYvoYfG/H4GZRzMS6b8Big0HSODiv6/borPtDvG/2FPEmpol4b+h/iRudFzsv8fYiubGfeK/22rrlhwd6b9XlOaBvcbov3ViPrtwm+a/EJl0He+P6b969Rg8Rvzrv7/AKGd6Seq/QjUK/TuX8b8/WG0D1nXyv1laKFWEaOq/w1iG0b2l6r9oqlvqPa3tv9xhOnqcJvC/iMmtQLMO67+1hgKGrITsvw==",
          "dtype": "f8"
         },
         "z": {
          "bdata": "agZOtuXk1D+KF9xwfNzdP58psqWx174/MKwHaSdu2T9aqxC4L1LAPy4xKoVhTdE/qik0Ynrldr8Bvih/sMHIP4RwEK0GQN0/WUulMyCh5D+DEJg9aA7SP12YnQsYrsc//6FUR/bGtT8sSHhhbWbRP9MVBQmGfug/BGiObayKuj9a9sZMP5jCP1rWJpr6Q+Q/Qu16IGaYwj867mzI7RbjP6WDm5mzxME/Avkmua5lwT8Pz1b6lsTUP9QlJF2klNQ/iE+2H2COvr9eq6YWo0nPP985bfPJXeA/uyVEX4EMxj/s0n1WO0fQP2po1UQVM9U/eK5M/LfSkb8+5w8YKWjMP6OOrkTp8sw/ObT3i5Qf4j/Hlwat+13PP8XnVxiTM9M/J4Vc7UZm0j88hqPH/sDfP46h3wn5vq4/9bTHBIczyT+jj2L4SbOaP6L/czFMCIe/qax8i9RftD+zORq1c8LXPwls337nW9E/DfZE2Idk0j8jS8kq4cZyP+qZZ+AxvdQ/2+xQSg3k1T/LbPFFQhPYPw==",
          "dtype": "f8"
         }
        },
        {
         "hovertemplate": "cluster=3<br>feature1=%{x}<br>feature2=%{y}<br>feature3=%{z}<extra></extra>",
         "legendgroup": "3",
         "marker": {
          "color": "#ab63fa",
          "symbol": "circle"
         },
         "mode": "markers",
         "name": "3",
         "scene": "scene",
         "showlegend": true,
         "type": "scatter3d",
         "x": {
          "bdata": "OSb4glUF1T8A4Toj00zVP367qzFBeNI/lvT1cq7l2z/Rz3X1ZXzhP506E7D+NdI/RBhQTMY51j9X1tVpSoPDP+smRQ+jlbQ/vL9TLbgZyb9jAdFlfNHTP875NH/MpdM/tBUdSEAC1z/Whjvq/jHVP+Y4XEXkh9M/zIv/m6pzyb+pFzsxvWrCP9y1uiGRP9Q/u9Beofd7vj/BWr7YxCm/v6UYyCHcHNk/gFOT/h7NvD9CxKBKfobWPwWrVUqcqtE/CP0AX67n1z9R5gq+RPSfP2tOEmw/SdG/q3oQ8loUzT8Df+CF067bP1cZ54nDB7O/nAIxndbFvz/rDb3qSw/Tv4SQZxn67MM/x9OQ9TuRhz8AHfGg1FHQP+spMx0OaLy/jh3SmpOt6T8kOW13fLm6v21jgUj9Pdc/CCrHnslaoD/xrQZdnunjPyfVElCSaHk/JDOabzU70T83fLWh7kO5P5sh2qNpw9A/JvWv1mgh0T9TBTdUWCvLP++nzCpY7cw/tiY2bHiZz7+dwo2DW5ScPw==",
          "dtype": "f8"
         },
         "y": {
          "bdata": "/z0RUK5n6r+xQ3ng9Svuvzp0oDY5Ru+/DhZASnaS579pq5aeb1Tlv3aZRDUni/C/coNvGhF68L+OWLfRlWrpv3LdsKnZgO2/jIAx12HQ479J5atcGRHtv5N4FjUXPea/l4Y5SBuY6L+uVNOXZzvhv1X+L7mJfPC/3BYW56BH8b8I8miq2SXov8FgaBz9iO2/u0Fqa2Ie8b92upMrOI3kv7oUNxP7Re2/UthQHPnB6r+xeIgaHDPjv2zBtlikhNa/oOOzHMcu8L8TBtq3qEjpv41xc1h8X/G/zzFnilU957/CCMBIk7vtv8yDL4HbzuW/Sh1hhVmQ8r+1effU5ILnv5BwKjPrg+2/J1l+HYIu8r+3fOSg8A/kv6hUIP5p0ui/xmP9MrDj6L8CV69zrWrzvxR8F1X7PuO/W1FuWBU76b8rjMALFvnhv1gnFjayPOy/J+u3IhUJ67+mO9rWbSjlv4FFSbZIgdy/NvKw78Je8L/5LYeUXCHyv5ZBSdyFs+i/UICQQ+zO4r+yvG9V0a3xvw==",
          "dtype": "f8"
         },
         "z": {
          "bdata": "amb11V748L/lQi4qVBjmv2tXvZAWxdK/cjpvWnyC37/nXTWzMn/qv3AEH9EVpu2/6nzOCzAe6r9BhPtbEGzpv8QjFznVtu+/gM64efJ37793qHTZZlDsvwnpPBKccu2/8yWgvJyp9L9r99OaNrDtv6FOz3Abru2/K2vmznFF67/csmeKV7Lwv7m33nHG3eW/wgzo48LZ5r9FtTMS+3jpv5AEXI4TrO2/8iL60eBE8L8lONwZVPDlv/elaZ3Qe+S/mVrAEdCa7b+k4kYj9n3qv45TPuwxOfG/co7/Nz5r7L8f7ueXRgTxvzTjGkiUeOq/K7TfY13p4b9+DoAibjP0v/mnt1XBWe2/55rb0gYH3r/fKT0dNVjzv/3j9aX0ZvK/4NTkbY254b/q8fyuOJTxv6wjY9l3iu2/hweZfjuA6b8KuofWH9X2v49yrpubcNi//0q7zjHf7L/IbtYIuL3vvz29JMtnK+2/Ekz877ne7r+PJLdv8Lryv0UcPozGAuy/arwavRRa4L/nO+Llnqbsvw==",
          "dtype": "f8"
         }
        }
       ],
       "layout": {
        "height": 500,
        "legend": {
         "title": {
          "text": "cluster"
         },
         "tracegroupgap": 0
        },
        "margin": {
         "t": 60
        },
        "scene": {
         "domain": {
          "x": [
           0,
           1
          ],
          "y": [
           0,
           1
          ]
         },
         "xaxis": {
          "title": {
           "text": "feature1"
          }
         },
         "yaxis": {
          "title": {
           "text": "feature2"
          }
         },
         "zaxis": {
          "title": {
           "text": "feature3"
          }
         }
        },
        "template": {
         "data": {
          "bar": [
           {
            "error_x": {
             "color": "#2a3f5f"
            },
            "error_y": {
             "color": "#2a3f5f"
            },
            "marker": {
             "line": {
              "color": "#E5ECF6",
              "width": 0.5
             },
             "pattern": {
              "fillmode": "overlay",
              "size": 10,
              "solidity": 0.2
             }
            },
            "type": "bar"
           }
          ],
          "barpolar": [
           {
            "marker": {
             "line": {
              "color": "#E5ECF6",
              "width": 0.5
             },
             "pattern": {
              "fillmode": "overlay",
              "size": 10,
              "solidity": 0.2
             }
            },
            "type": "barpolar"
           }
          ],
          "carpet": [
           {
            "aaxis": {
             "endlinecolor": "#2a3f5f",
             "gridcolor": "white",
             "linecolor": "white",
             "minorgridcolor": "white",
             "startlinecolor": "#2a3f5f"
            },
            "baxis": {
             "endlinecolor": "#2a3f5f",
             "gridcolor": "white",
             "linecolor": "white",
             "minorgridcolor": "white",
             "startlinecolor": "#2a3f5f"
            },
            "type": "carpet"
           }
          ],
          "choropleth": [
           {
            "colorbar": {
             "outlinewidth": 0,
             "ticks": ""
            },
            "type": "choropleth"
           }
          ],
          "contour": [
           {
            "colorbar": {
             "outlinewidth": 0,
             "ticks": ""
            },
            "colorscale": [
             [
              0,
              "#0d0887"
             ],
             [
              0.1111111111111111,
              "#46039f"
             ],
             [
              0.2222222222222222,
              "#7201a8"
             ],
             [
              0.3333333333333333,
              "#9c179e"
             ],
             [
              0.4444444444444444,
              "#bd3786"
             ],
             [
              0.5555555555555556,
              "#d8576b"
             ],
             [
              0.6666666666666666,
              "#ed7953"
             ],
             [
              0.7777777777777778,
              "#fb9f3a"
             ],
             [
              0.8888888888888888,
              "#fdca26"
             ],
             [
              1,
              "#f0f921"
             ]
            ],
            "type": "contour"
           }
          ],
          "contourcarpet": [
           {
            "colorbar": {
             "outlinewidth": 0,
             "ticks": ""
            },
            "type": "contourcarpet"
           }
          ],
          "heatmap": [
           {
            "colorbar": {
             "outlinewidth": 0,
             "ticks": ""
            },
            "colorscale": [
             [
              0,
              "#0d0887"
             ],
             [
              0.1111111111111111,
              "#46039f"
             ],
             [
              0.2222222222222222,
              "#7201a8"
             ],
             [
              0.3333333333333333,
              "#9c179e"
             ],
             [
              0.4444444444444444,
              "#bd3786"
             ],
             [
              0.5555555555555556,
              "#d8576b"
             ],
             [
              0.6666666666666666,
              "#ed7953"
             ],
             [
              0.7777777777777778,
              "#fb9f3a"
             ],
             [
              0.8888888888888888,
              "#fdca26"
             ],
             [
              1,
              "#f0f921"
             ]
            ],
            "type": "heatmap"
           }
          ],
          "histogram": [
           {
            "marker": {
             "pattern": {
              "fillmode": "overlay",
              "size": 10,
              "solidity": 0.2
             }
            },
            "type": "histogram"
           }
          ],
          "histogram2d": [
           {
            "colorbar": {
             "outlinewidth": 0,
             "ticks": ""
            },
            "colorscale": [
             [
              0,
              "#0d0887"
             ],
             [
              0.1111111111111111,
              "#46039f"
             ],
             [
              0.2222222222222222,
              "#7201a8"
             ],
             [
              0.3333333333333333,
              "#9c179e"
             ],
             [
              0.4444444444444444,
              "#bd3786"
             ],
             [
              0.5555555555555556,
              "#d8576b"
             ],
             [
              0.6666666666666666,
              "#ed7953"
             ],
             [
              0.7777777777777778,
              "#fb9f3a"
             ],
             [
              0.8888888888888888,
              "#fdca26"
             ],
             [
              1,
              "#f0f921"
             ]
            ],
            "type": "histogram2d"
           }
          ],
          "histogram2dcontour": [
           {
            "colorbar": {
             "outlinewidth": 0,
             "ticks": ""
            },
            "colorscale": [
             [
              0,
              "#0d0887"
             ],
             [
              0.1111111111111111,
              "#46039f"
             ],
             [
              0.2222222222222222,
              "#7201a8"
             ],
             [
              0.3333333333333333,
              "#9c179e"
             ],
             [
              0.4444444444444444,
              "#bd3786"
             ],
             [
              0.5555555555555556,
              "#d8576b"
             ],
             [
              0.6666666666666666,
              "#ed7953"
             ],
             [
              0.7777777777777778,
              "#fb9f3a"
             ],
             [
              0.8888888888888888,
              "#fdca26"
             ],
             [
              1,
              "#f0f921"
             ]
            ],
            "type": "histogram2dcontour"
           }
          ],
          "mesh3d": [
           {
            "colorbar": {
             "outlinewidth": 0,
             "ticks": ""
            },
            "type": "mesh3d"
           }
          ],
          "parcoords": [
           {
            "line": {
             "colorbar": {
              "outlinewidth": 0,
              "ticks": ""
             }
            },
            "type": "parcoords"
           }
          ],
          "pie": [
           {
            "automargin": true,
            "type": "pie"
           }
          ],
          "scatter": [
           {
            "fillpattern": {
             "fillmode": "overlay",
             "size": 10,
             "solidity": 0.2
            },
            "type": "scatter"
           }
          ],
          "scatter3d": [
           {
            "line": {
             "colorbar": {
              "outlinewidth": 0,
              "ticks": ""
             }
            },
            "marker": {
             "colorbar": {
              "outlinewidth": 0,
              "ticks": ""
             }
            },
            "type": "scatter3d"
           }
          ],
          "scattercarpet": [
           {
            "marker": {
             "colorbar": {
              "outlinewidth": 0,
              "ticks": ""
             }
            },
            "type": "scattercarpet"
           }
          ],
          "scattergeo": [
           {
            "marker": {
             "colorbar": {
              "outlinewidth": 0,
              "ticks": ""
             }
            },
            "type": "scattergeo"
           }
          ],
          "scattergl": [
           {
            "marker": {
             "colorbar": {
              "outlinewidth": 0,
              "ticks": ""
             }
            },
            "type": "scattergl"
           }
          ],
          "scattermap": [
           {
            "marker": {
             "colorbar": {
              "outlinewidth": 0,
              "ticks": ""
             }
            },
            "type": "scattermap"
           }
          ],
          "scattermapbox": [
           {
            "marker": {
             "colorbar": {
              "outlinewidth": 0,
              "ticks": ""
             }
            },
            "type": "scattermapbox"
           }
          ],
          "scatterpolar": [
           {
            "marker": {
             "colorbar": {
              "outlinewidth": 0,
              "ticks": ""
             }
            },
            "type": "scatterpolar"
           }
          ],
          "scatterpolargl": [
           {
            "marker": {
             "colorbar": {
              "outlinewidth": 0,
              "ticks": ""
             }
            },
            "type": "scatterpolargl"
           }
          ],
          "scatterternary": [
           {
            "marker": {
             "colorbar": {
              "outlinewidth": 0,
              "ticks": ""
             }
            },
            "type": "scatterternary"
           }
          ],
          "surface": [
           {
            "colorbar": {
             "outlinewidth": 0,
             "ticks": ""
            },
            "colorscale": [
             [
              0,
              "#0d0887"
             ],
             [
              0.1111111111111111,
              "#46039f"
             ],
             [
              0.2222222222222222,
              "#7201a8"
             ],
             [
              0.3333333333333333,
              "#9c179e"
             ],
             [
              0.4444444444444444,
              "#bd3786"
             ],
             [
              0.5555555555555556,
              "#d8576b"
             ],
             [
              0.6666666666666666,
              "#ed7953"
             ],
             [
              0.7777777777777778,
              "#fb9f3a"
             ],
             [
              0.8888888888888888,
              "#fdca26"
             ],
             [
              1,
              "#f0f921"
             ]
            ],
            "type": "surface"
           }
          ],
          "table": [
           {
            "cells": {
             "fill": {
              "color": "#EBF0F8"
             },
             "line": {
              "color": "white"
             }
            },
            "header": {
             "fill": {
              "color": "#C8D4E3"
             },
             "line": {
              "color": "white"
             }
            },
            "type": "table"
           }
          ]
         },
         "layout": {
          "annotationdefaults": {
           "arrowcolor": "#2a3f5f",
           "arrowhead": 0,
           "arrowwidth": 1
          },
          "autotypenumbers": "strict",
          "coloraxis": {
           "colorbar": {
            "outlinewidth": 0,
            "ticks": ""
           }
          },
          "colorscale": {
           "diverging": [
            [
             0,
             "#8e0152"
            ],
            [
             0.1,
             "#c51b7d"
            ],
            [
             0.2,
             "#de77ae"
            ],
            [
             0.3,
             "#f1b6da"
            ],
            [
             0.4,
             "#fde0ef"
            ],
            [
             0.5,
             "#f7f7f7"
            ],
            [
             0.6,
             "#e6f5d0"
            ],
            [
             0.7,
             "#b8e186"
            ],
            [
             0.8,
             "#7fbc41"
            ],
            [
             0.9,
             "#4d9221"
            ],
            [
             1,
             "#276419"
            ]
           ],
           "sequential": [
            [
             0,
             "#0d0887"
            ],
            [
             0.1111111111111111,
             "#46039f"
            ],
            [
             0.2222222222222222,
             "#7201a8"
            ],
            [
             0.3333333333333333,
             "#9c179e"
            ],
            [
             0.4444444444444444,
             "#bd3786"
            ],
            [
             0.5555555555555556,
             "#d8576b"
            ],
            [
             0.6666666666666666,
             "#ed7953"
            ],
            [
             0.7777777777777778,
             "#fb9f3a"
            ],
            [
             0.8888888888888888,
             "#fdca26"
            ],
            [
             1,
             "#f0f921"
            ]
           ],
           "sequentialminus": [
            [
             0,
             "#0d0887"
            ],
            [
             0.1111111111111111,
             "#46039f"
            ],
            [
             0.2222222222222222,
             "#7201a8"
            ],
            [
             0.3333333333333333,
             "#9c179e"
            ],
            [
             0.4444444444444444,
             "#bd3786"
            ],
            [
             0.5555555555555556,
             "#d8576b"
            ],
            [
             0.6666666666666666,
             "#ed7953"
            ],
            [
             0.7777777777777778,
             "#fb9f3a"
            ],
            [
             0.8888888888888888,
             "#fdca26"
            ],
            [
             1,
             "#f0f921"
            ]
           ]
          },
          "colorway": [
           "#636efa",
           "#EF553B",
           "#00cc96",
           "#ab63fa",
           "#FFA15A",
           "#19d3f3",
           "#FF6692",
           "#B6E880",
           "#FF97FF",
           "#FECB52"
          ],
          "font": {
           "color": "#2a3f5f"
          },
          "geo": {
           "bgcolor": "white",
           "lakecolor": "white",
           "landcolor": "#E5ECF6",
           "showlakes": true,
           "showland": true,
           "subunitcolor": "white"
          },
          "hoverlabel": {
           "align": "left"
          },
          "hovermode": "closest",
          "mapbox": {
           "style": "light"
          },
          "paper_bgcolor": "white",
          "plot_bgcolor": "#E5ECF6",
          "polar": {
           "angularaxis": {
            "gridcolor": "white",
            "linecolor": "white",
            "ticks": ""
           },
           "bgcolor": "#E5ECF6",
           "radialaxis": {
            "gridcolor": "white",
            "linecolor": "white",
            "ticks": ""
           }
          },
          "scene": {
           "xaxis": {
            "backgroundcolor": "#E5ECF6",
            "gridcolor": "white",
            "gridwidth": 2,
            "linecolor": "white",
            "showbackground": true,
            "ticks": "",
            "zerolinecolor": "white"
           },
           "yaxis": {
            "backgroundcolor": "#E5ECF6",
            "gridcolor": "white",
            "gridwidth": 2,
            "linecolor": "white",
            "showbackground": true,
            "ticks": "",
            "zerolinecolor": "white"
           },
           "zaxis": {
            "backgroundcolor": "#E5ECF6",
            "gridcolor": "white",
            "gridwidth": 2,
            "linecolor": "white",
            "showbackground": true,
            "ticks": "",
            "zerolinecolor": "white"
           }
          },
          "shapedefaults": {
           "line": {
            "color": "#2a3f5f"
           }
          },
          "ternary": {
           "aaxis": {
            "gridcolor": "white",
            "linecolor": "white",
            "ticks": ""
           },
           "baxis": {
            "gridcolor": "white",
            "linecolor": "white",
            "ticks": ""
           },
           "bgcolor": "#E5ECF6",
           "caxis": {
            "gridcolor": "white",
            "linecolor": "white",
            "ticks": ""
           }
          },
          "title": {
           "x": 0.05
          },
          "xaxis": {
           "automargin": true,
           "gridcolor": "white",
           "linecolor": "white",
           "ticks": "",
           "title": {
            "standoff": 15
           },
           "zerolinecolor": "white",
           "zerolinewidth": 2
          },
          "yaxis": {
           "automargin": true,
           "gridcolor": "white",
           "linecolor": "white",
           "ticks": "",
           "title": {
            "standoff": 15
           },
           "zerolinecolor": "white",
           "zerolinewidth": 2
          }
         }
        },
        "width": 600
       }
      }
     },
     "metadata": {},
     "output_type": "display_data"
    }
   ],
   "source": [
    "px.scatter_3d(\n",
    "    df, \n",
    "    x=\"feature1\", y=\"feature2\", z=\"feature3\", \n",
    "    color=\"cluster\", \n",
    "    category_orders={\"cluster\": [\"0\", \"1\", \"2\", \"3\"]},\n",
    "    width=600, height=500\n",
    ")\n"
   ]
  },
  {
   "cell_type": "markdown",
   "id": "e8e6f45d",
   "metadata": {},
   "source": [
    "## Elbow Method"
   ]
  },
  {
   "cell_type": "code",
   "execution_count": 104,
   "id": "7f050865",
   "metadata": {},
   "outputs": [
    {
     "data": {
      "text/plain": [
       "[431.30419210954756,\n",
       " 145.48569090258826,\n",
       " 86.66587692184885,\n",
       " 24.057415638913856,\n",
       " 22.127413495382953,\n",
       " 20.507160820289634,\n",
       " 18.839012671306538,\n",
       " 17.30852657775569,\n",
       " 15.611934751811866]"
      ]
     },
     "execution_count": 104,
     "metadata": {},
     "output_type": "execute_result"
    }
   ],
   "source": [
    "inertia = []\n",
    "\n",
    "for k in range(1, 10):\n",
    "    kmeans = KMeans(n_clusters=k, random_state=420).fit(df.values)\n",
    "    inertia.append(kmeans.inertia_)\n",
    "    \n",
    "inertia"
   ]
  },
  {
   "cell_type": "code",
   "execution_count": 105,
   "id": "1b61979c",
   "metadata": {},
   "outputs": [
    {
     "data": {
      "application/vnd.plotly.v1+json": {
       "config": {
        "plotlyServerURL": "https://plot.ly"
       },
       "data": [
        {
         "hovertemplate": "Cluster #=%{x}<br>Inertia=%{y}<extra></extra>",
         "legendgroup": "",
         "line": {
          "color": "#636efa",
          "dash": "solid"
         },
         "marker": {
          "symbol": "circle"
         },
         "mode": "lines",
         "name": "",
         "orientation": "v",
         "showlegend": false,
         "type": "scatter",
         "x": {
          "bdata": "AQIDBAUGBwgJ",
          "dtype": "i1"
         },
         "xaxis": "x",
         "y": {
          "bdata": "VKOL+N30ekCa0qXHii9iQCCgPLqdqlVA+WmTyrIOOEAkvbsrniA2QN70oErVgTRA8TDQiMnWMkBRaAmZ+04xQLyiBINPOS9A",
          "dtype": "f8"
         },
         "yaxis": "y"
        }
       ],
       "layout": {
        "height": 300,
        "legend": {
         "tracegroupgap": 0
        },
        "margin": {
         "t": 60
        },
        "template": {
         "data": {
          "bar": [
           {
            "error_x": {
             "color": "#2a3f5f"
            },
            "error_y": {
             "color": "#2a3f5f"
            },
            "marker": {
             "line": {
              "color": "#E5ECF6",
              "width": 0.5
             },
             "pattern": {
              "fillmode": "overlay",
              "size": 10,
              "solidity": 0.2
             }
            },
            "type": "bar"
           }
          ],
          "barpolar": [
           {
            "marker": {
             "line": {
              "color": "#E5ECF6",
              "width": 0.5
             },
             "pattern": {
              "fillmode": "overlay",
              "size": 10,
              "solidity": 0.2
             }
            },
            "type": "barpolar"
           }
          ],
          "carpet": [
           {
            "aaxis": {
             "endlinecolor": "#2a3f5f",
             "gridcolor": "white",
             "linecolor": "white",
             "minorgridcolor": "white",
             "startlinecolor": "#2a3f5f"
            },
            "baxis": {
             "endlinecolor": "#2a3f5f",
             "gridcolor": "white",
             "linecolor": "white",
             "minorgridcolor": "white",
             "startlinecolor": "#2a3f5f"
            },
            "type": "carpet"
           }
          ],
          "choropleth": [
           {
            "colorbar": {
             "outlinewidth": 0,
             "ticks": ""
            },
            "type": "choropleth"
           }
          ],
          "contour": [
           {
            "colorbar": {
             "outlinewidth": 0,
             "ticks": ""
            },
            "colorscale": [
             [
              0,
              "#0d0887"
             ],
             [
              0.1111111111111111,
              "#46039f"
             ],
             [
              0.2222222222222222,
              "#7201a8"
             ],
             [
              0.3333333333333333,
              "#9c179e"
             ],
             [
              0.4444444444444444,
              "#bd3786"
             ],
             [
              0.5555555555555556,
              "#d8576b"
             ],
             [
              0.6666666666666666,
              "#ed7953"
             ],
             [
              0.7777777777777778,
              "#fb9f3a"
             ],
             [
              0.8888888888888888,
              "#fdca26"
             ],
             [
              1,
              "#f0f921"
             ]
            ],
            "type": "contour"
           }
          ],
          "contourcarpet": [
           {
            "colorbar": {
             "outlinewidth": 0,
             "ticks": ""
            },
            "type": "contourcarpet"
           }
          ],
          "heatmap": [
           {
            "colorbar": {
             "outlinewidth": 0,
             "ticks": ""
            },
            "colorscale": [
             [
              0,
              "#0d0887"
             ],
             [
              0.1111111111111111,
              "#46039f"
             ],
             [
              0.2222222222222222,
              "#7201a8"
             ],
             [
              0.3333333333333333,
              "#9c179e"
             ],
             [
              0.4444444444444444,
              "#bd3786"
             ],
             [
              0.5555555555555556,
              "#d8576b"
             ],
             [
              0.6666666666666666,
              "#ed7953"
             ],
             [
              0.7777777777777778,
              "#fb9f3a"
             ],
             [
              0.8888888888888888,
              "#fdca26"
             ],
             [
              1,
              "#f0f921"
             ]
            ],
            "type": "heatmap"
           }
          ],
          "histogram": [
           {
            "marker": {
             "pattern": {
              "fillmode": "overlay",
              "size": 10,
              "solidity": 0.2
             }
            },
            "type": "histogram"
           }
          ],
          "histogram2d": [
           {
            "colorbar": {
             "outlinewidth": 0,
             "ticks": ""
            },
            "colorscale": [
             [
              0,
              "#0d0887"
             ],
             [
              0.1111111111111111,
              "#46039f"
             ],
             [
              0.2222222222222222,
              "#7201a8"
             ],
             [
              0.3333333333333333,
              "#9c179e"
             ],
             [
              0.4444444444444444,
              "#bd3786"
             ],
             [
              0.5555555555555556,
              "#d8576b"
             ],
             [
              0.6666666666666666,
              "#ed7953"
             ],
             [
              0.7777777777777778,
              "#fb9f3a"
             ],
             [
              0.8888888888888888,
              "#fdca26"
             ],
             [
              1,
              "#f0f921"
             ]
            ],
            "type": "histogram2d"
           }
          ],
          "histogram2dcontour": [
           {
            "colorbar": {
             "outlinewidth": 0,
             "ticks": ""
            },
            "colorscale": [
             [
              0,
              "#0d0887"
             ],
             [
              0.1111111111111111,
              "#46039f"
             ],
             [
              0.2222222222222222,
              "#7201a8"
             ],
             [
              0.3333333333333333,
              "#9c179e"
             ],
             [
              0.4444444444444444,
              "#bd3786"
             ],
             [
              0.5555555555555556,
              "#d8576b"
             ],
             [
              0.6666666666666666,
              "#ed7953"
             ],
             [
              0.7777777777777778,
              "#fb9f3a"
             ],
             [
              0.8888888888888888,
              "#fdca26"
             ],
             [
              1,
              "#f0f921"
             ]
            ],
            "type": "histogram2dcontour"
           }
          ],
          "mesh3d": [
           {
            "colorbar": {
             "outlinewidth": 0,
             "ticks": ""
            },
            "type": "mesh3d"
           }
          ],
          "parcoords": [
           {
            "line": {
             "colorbar": {
              "outlinewidth": 0,
              "ticks": ""
             }
            },
            "type": "parcoords"
           }
          ],
          "pie": [
           {
            "automargin": true,
            "type": "pie"
           }
          ],
          "scatter": [
           {
            "fillpattern": {
             "fillmode": "overlay",
             "size": 10,
             "solidity": 0.2
            },
            "type": "scatter"
           }
          ],
          "scatter3d": [
           {
            "line": {
             "colorbar": {
              "outlinewidth": 0,
              "ticks": ""
             }
            },
            "marker": {
             "colorbar": {
              "outlinewidth": 0,
              "ticks": ""
             }
            },
            "type": "scatter3d"
           }
          ],
          "scattercarpet": [
           {
            "marker": {
             "colorbar": {
              "outlinewidth": 0,
              "ticks": ""
             }
            },
            "type": "scattercarpet"
           }
          ],
          "scattergeo": [
           {
            "marker": {
             "colorbar": {
              "outlinewidth": 0,
              "ticks": ""
             }
            },
            "type": "scattergeo"
           }
          ],
          "scattergl": [
           {
            "marker": {
             "colorbar": {
              "outlinewidth": 0,
              "ticks": ""
             }
            },
            "type": "scattergl"
           }
          ],
          "scattermap": [
           {
            "marker": {
             "colorbar": {
              "outlinewidth": 0,
              "ticks": ""
             }
            },
            "type": "scattermap"
           }
          ],
          "scattermapbox": [
           {
            "marker": {
             "colorbar": {
              "outlinewidth": 0,
              "ticks": ""
             }
            },
            "type": "scattermapbox"
           }
          ],
          "scatterpolar": [
           {
            "marker": {
             "colorbar": {
              "outlinewidth": 0,
              "ticks": ""
             }
            },
            "type": "scatterpolar"
           }
          ],
          "scatterpolargl": [
           {
            "marker": {
             "colorbar": {
              "outlinewidth": 0,
              "ticks": ""
             }
            },
            "type": "scatterpolargl"
           }
          ],
          "scatterternary": [
           {
            "marker": {
             "colorbar": {
              "outlinewidth": 0,
              "ticks": ""
             }
            },
            "type": "scatterternary"
           }
          ],
          "surface": [
           {
            "colorbar": {
             "outlinewidth": 0,
             "ticks": ""
            },
            "colorscale": [
             [
              0,
              "#0d0887"
             ],
             [
              0.1111111111111111,
              "#46039f"
             ],
             [
              0.2222222222222222,
              "#7201a8"
             ],
             [
              0.3333333333333333,
              "#9c179e"
             ],
             [
              0.4444444444444444,
              "#bd3786"
             ],
             [
              0.5555555555555556,
              "#d8576b"
             ],
             [
              0.6666666666666666,
              "#ed7953"
             ],
             [
              0.7777777777777778,
              "#fb9f3a"
             ],
             [
              0.8888888888888888,
              "#fdca26"
             ],
             [
              1,
              "#f0f921"
             ]
            ],
            "type": "surface"
           }
          ],
          "table": [
           {
            "cells": {
             "fill": {
              "color": "#EBF0F8"
             },
             "line": {
              "color": "white"
             }
            },
            "header": {
             "fill": {
              "color": "#C8D4E3"
             },
             "line": {
              "color": "white"
             }
            },
            "type": "table"
           }
          ]
         },
         "layout": {
          "annotationdefaults": {
           "arrowcolor": "#2a3f5f",
           "arrowhead": 0,
           "arrowwidth": 1
          },
          "autotypenumbers": "strict",
          "coloraxis": {
           "colorbar": {
            "outlinewidth": 0,
            "ticks": ""
           }
          },
          "colorscale": {
           "diverging": [
            [
             0,
             "#8e0152"
            ],
            [
             0.1,
             "#c51b7d"
            ],
            [
             0.2,
             "#de77ae"
            ],
            [
             0.3,
             "#f1b6da"
            ],
            [
             0.4,
             "#fde0ef"
            ],
            [
             0.5,
             "#f7f7f7"
            ],
            [
             0.6,
             "#e6f5d0"
            ],
            [
             0.7,
             "#b8e186"
            ],
            [
             0.8,
             "#7fbc41"
            ],
            [
             0.9,
             "#4d9221"
            ],
            [
             1,
             "#276419"
            ]
           ],
           "sequential": [
            [
             0,
             "#0d0887"
            ],
            [
             0.1111111111111111,
             "#46039f"
            ],
            [
             0.2222222222222222,
             "#7201a8"
            ],
            [
             0.3333333333333333,
             "#9c179e"
            ],
            [
             0.4444444444444444,
             "#bd3786"
            ],
            [
             0.5555555555555556,
             "#d8576b"
            ],
            [
             0.6666666666666666,
             "#ed7953"
            ],
            [
             0.7777777777777778,
             "#fb9f3a"
            ],
            [
             0.8888888888888888,
             "#fdca26"
            ],
            [
             1,
             "#f0f921"
            ]
           ],
           "sequentialminus": [
            [
             0,
             "#0d0887"
            ],
            [
             0.1111111111111111,
             "#46039f"
            ],
            [
             0.2222222222222222,
             "#7201a8"
            ],
            [
             0.3333333333333333,
             "#9c179e"
            ],
            [
             0.4444444444444444,
             "#bd3786"
            ],
            [
             0.5555555555555556,
             "#d8576b"
            ],
            [
             0.6666666666666666,
             "#ed7953"
            ],
            [
             0.7777777777777778,
             "#fb9f3a"
            ],
            [
             0.8888888888888888,
             "#fdca26"
            ],
            [
             1,
             "#f0f921"
            ]
           ]
          },
          "colorway": [
           "#636efa",
           "#EF553B",
           "#00cc96",
           "#ab63fa",
           "#FFA15A",
           "#19d3f3",
           "#FF6692",
           "#B6E880",
           "#FF97FF",
           "#FECB52"
          ],
          "font": {
           "color": "#2a3f5f"
          },
          "geo": {
           "bgcolor": "white",
           "lakecolor": "white",
           "landcolor": "#E5ECF6",
           "showlakes": true,
           "showland": true,
           "subunitcolor": "white"
          },
          "hoverlabel": {
           "align": "left"
          },
          "hovermode": "closest",
          "mapbox": {
           "style": "light"
          },
          "paper_bgcolor": "white",
          "plot_bgcolor": "#E5ECF6",
          "polar": {
           "angularaxis": {
            "gridcolor": "white",
            "linecolor": "white",
            "ticks": ""
           },
           "bgcolor": "#E5ECF6",
           "radialaxis": {
            "gridcolor": "white",
            "linecolor": "white",
            "ticks": ""
           }
          },
          "scene": {
           "xaxis": {
            "backgroundcolor": "#E5ECF6",
            "gridcolor": "white",
            "gridwidth": 2,
            "linecolor": "white",
            "showbackground": true,
            "ticks": "",
            "zerolinecolor": "white"
           },
           "yaxis": {
            "backgroundcolor": "#E5ECF6",
            "gridcolor": "white",
            "gridwidth": 2,
            "linecolor": "white",
            "showbackground": true,
            "ticks": "",
            "zerolinecolor": "white"
           },
           "zaxis": {
            "backgroundcolor": "#E5ECF6",
            "gridcolor": "white",
            "gridwidth": 2,
            "linecolor": "white",
            "showbackground": true,
            "ticks": "",
            "zerolinecolor": "white"
           }
          },
          "shapedefaults": {
           "line": {
            "color": "#2a3f5f"
           }
          },
          "ternary": {
           "aaxis": {
            "gridcolor": "white",
            "linecolor": "white",
            "ticks": ""
           },
           "baxis": {
            "gridcolor": "white",
            "linecolor": "white",
            "ticks": ""
           },
           "bgcolor": "#E5ECF6",
           "caxis": {
            "gridcolor": "white",
            "linecolor": "white",
            "ticks": ""
           }
          },
          "title": {
           "x": 0.05
          },
          "xaxis": {
           "automargin": true,
           "gridcolor": "white",
           "linecolor": "white",
           "ticks": "",
           "title": {
            "standoff": 15
           },
           "zerolinecolor": "white",
           "zerolinewidth": 2
          },
          "yaxis": {
           "automargin": true,
           "gridcolor": "white",
           "linecolor": "white",
           "ticks": "",
           "title": {
            "standoff": 15
           },
           "zerolinecolor": "white",
           "zerolinewidth": 2
          }
         }
        },
        "width": 500,
        "xaxis": {
         "anchor": "y",
         "domain": [
          0,
          1
         ],
         "title": {
          "text": "Cluster #"
         }
        },
        "yaxis": {
         "anchor": "x",
         "domain": [
          0,
          1
         ],
         "title": {
          "text": "Inertia"
         }
        }
       }
      }
     },
     "metadata": {},
     "output_type": "display_data"
    }
   ],
   "source": [
    "px.line(\n",
    "    x=range(1,10), \n",
    "    y=inertia,\n",
    "    labels={\n",
    "        \"y\": \"Inertia\", \n",
    "        \"x\": \"Cluster #\"\n",
    "    },\n",
    "    width=500, height=300\n",
    ")"
   ]
  },
  {
   "cell_type": "markdown",
   "id": "6411cbee",
   "metadata": {},
   "source": [
    "## Silhouette Analysis\n",
    "\n",
    "[Silhouette Visualizer](https://www.scikit-yb.org/en/latest/api/cluster/silhouette.html) comes from the `yellowbrick` package, which will need to be installed in your Anaconda Environment. "
   ]
  },
  {
   "cell_type": "code",
   "execution_count": 106,
   "id": "9f3e30b8",
   "metadata": {},
   "outputs": [
    {
     "data": {
      "text/plain": [
       "0.7164395449825801"
      ]
     },
     "execution_count": 106,
     "metadata": {},
     "output_type": "execute_result"
    }
   ],
   "source": [
    "k_clusters = 4 # increment to compare different cluster #s\n",
    "kmeans = KMeans(n_clusters=k_clusters, random_state=420) \n",
    "silhouette_avg = silhouette_score(df, kmeans.fit_predict(df.values))\n",
    "silhouette_avg"
   ]
  },
  {
   "cell_type": "code",
   "execution_count": 107,
   "id": "b9ed9461",
   "metadata": {},
   "outputs": [
    {
     "data": {
      "image/png": "[encoded data removed]",
      "text/plain": [
       "<Figure size 800x550 with 1 Axes>"
      ]
     },
     "metadata": {},
     "output_type": "display_data"
    },
    {
     "data": {
      "text/plain": [
       "<Axes: title={'center': 'Silhouette Plot of KMeans Clustering for 200 Samples in 4 Centers'}, xlabel='silhouette coefficient values', ylabel='cluster label'>"
      ]
     },
     "execution_count": 107,
     "metadata": {},
     "output_type": "execute_result"
    }
   ],
   "source": [
    "visualizer = SilhouetteVisualizer(kmeans, colors=colors)\n",
    "visualizer.fit(df.values)\n",
    "visualizer.show()"
   ]
  },
  {
   "cell_type": "code",
   "execution_count": 108,
   "id": "b5bff728",
   "metadata": {},
   "outputs": [],
   "source": [
    "df[\"cluster\"] = data[1].astype(str)\n",
    "df['cluster'] = pd.Categorical(df['cluster'], categories=[\"0\", \"1\", \"2\", \"3\"], ordered=True)"
   ]
  },
  {
   "cell_type": "code",
   "execution_count": 109,
   "id": "3003305c",
   "metadata": {},
   "outputs": [
    {
     "data": {
      "application/vnd.plotly.v1+json": {
       "config": {
        "plotlyServerURL": "https://plot.ly"
       },
       "data": [
        {
         "hovertemplate": "cluster=0<br>feature1=%{x}<br>feature2=%{y}<br>feature3=%{z}<extra></extra>",
         "legendgroup": "0",
         "marker": {
          "color": "#636efa",
          "symbol": "circle"
         },
         "mode": "markers",
         "name": "0",
         "scene": "scene",
         "showlegend": true,
         "type": "scatter3d",
         "x": {
          "bdata": "Td31M1Ts5r9G6DlTNPjAvxrkCKpvD+S/PxDr+2JV479eevErg7TWvyi+z4fzAYG/atBSkbjB5r/H20P82czbvzeQwsPLeq6/6GkgJ9J53r9bZxI4sdzjvzbP/Pg+6tW/fXFL/X1g3r/uydm7bP3mv9c2QOvWTNC/gQAMhK8pxr+pOyT4gY7XvwBlc446R+C/2Sh/98ZZuL+aDPbxCk3gv2wPGKtBcOS/9dOMilRf1798pBnlUcnav2a01gTzhM+/pcA35PjB078MHj5K5Jfpvx/eJaiqLeO/eFAg8vPy0b9BVgdwxMjWv+98Q/27BuO/f0Hh4UQY3r+SVVzGWirRv4miqE9ppd6/MnQ2p+1Wur+zSZkxqMrUv1TXVoQOIc2/Mc2UOG5t5L/KpypcSuDOv4jBI6X4tuC/7u1Z5e0907+6QedhQGrhv1gSovaws7Y/QZYtN2oUzb8D5TSRrRTTv7wf42noMtm/leECgSa14L9LBgwQ9Yvgv8gYo8IOqdG/QZGqjGbd0r/1h+/a/0i6vw==",
          "dtype": "f8"
         },
         "y": {
          "bdata": "hjKeuyM0yb+L14i45z3Zv+Chrw9lVcS/DDuyJivVwD/fNIWG23rIvzzQMCCdWc4/YmFkn5L8xT+HTHJG61jQv4M/5MMtlo8/ENRtORSU0b+kFym4mWfRv2Ha+SNvEMi/nSsXnFlIy79SFKmqt3zHP5GGd9pKpas/tADHKqi8yr+i5qfgbhazvxvKLt9Jf6g/P0bn1e42wD8pGf4vpyTPv3hRYFU+XdO/mv1IjfQP0b+vMi5XJSLRv6dDftkI8KQ/K8hORDQbw79qd2p8h6CCP+eGA3HXMtS/39zriC5osz+ed1saFF3hv6JGVZcRacq/t9+79Butsj8RH4sTR86tvwv4GEZfWaw/JFkyOFqtxj/JtjN8awW4P+gu2sEkc54/GpmP0/fq3b+lr3DwXi2/vy9EQu9Zj8+/+L2Ln1sSob9CHw585vrav4U1EJeMRsA/UE8r8dcxr78fzto0EHzTP83tfBGen7y/78vJ1jbZnD89d77dIDvFv0mIyqdWUrA/bSgO1D+z0r/0trlEX0WiPw==",
          "dtype": "f8"
         },
         "z": {
          "bdata": "CUTjXPcW2b/ZHEfMzUrbv5NHlNCT0eK/3XfYI0J617+DKHssXfrhv/EijzoxIda//3/pCFXs0r/DD5t7k2zmv5JWmrLnIue//mM9Da4K479kFz2aU9jOv+lyw08wPMi/8Wtz+uYT479y3L4i/mvdvxdJur93nN2/GQQ8XhTE0b9AflCe+fvPv+8JiN7mI+G/EcVhSJ402r/m7Imjho/lv1x1iIakhN+/93YEDglj5L+sYSqJPQ/gv6vCjd+UxeK/ISbxTXFk079n9Jpc7vjYvwUn6BHAoOC/ieIotMEf4b9ONyHFQnnavxkGFzWWiOW/Q4J/Ah3z3r92KYB1w8vYvzYvJL4v1+a/tYdpDVW12b9Awg5P+xrjv8TRPKi43NS/4RVnQpObw79IY1IZowXiv4tzwWMg1+G/ch0z4Mht5b83BvkLz0rgv/yZKmc3iOK/GUBk9/GW4799kbDmLe/fv7f9wUfwkeK/HHyCehrF3r8KElhQu4XTvz/5IcOclN6/nDVr/h+qzb/LUvHu0bPrvw==",
          "dtype": "f8"
         }
        },
        {
         "hovertemplate": "cluster=1<br>feature1=%{x}<br>feature2=%{y}<br>feature3=%{z}<extra></extra>",
         "legendgroup": "1",
         "marker": {
          "color": "#EF553B",
          "symbol": "circle"
         },
         "mode": "markers",
         "name": "1",
         "scene": "scene",
         "showlegend": true,
         "type": "scatter3d",
         "x": {
          "bdata": "rnqjs6Cevj/siLmmdVHHvxmqZapJEMq/jiI3dGY92r9w4g9MgfbTv2lZaDI+qKI/0bDf4An85b+LAfKdMunGP7wovXIle+K/tyYxrBDjyb8Xle3ObSPbv/MHEEAF6cS/pCxwxkpe2r/J8h1Xk5CjP3/RgEKtc8i/1N/xpnj91791/JlGKdK8P0xOw4RYDNG/mIqtPHy5xb8PXrTyklu7v4nNmqazDte/P0VpTMGj0r90ReiamofQv0D92yj8xMW/TtX2iQv64r/BAJooB4O+v3mITXUOsNW/19Q0l75S478oTRJkntXrvy8URLEJ592/VxEmi3e14L/cDfIGNavav7ciqc7wg9i/GAjiqAamsD+rh1k2bOGWP0AB/Yfd4NG/KFT652NF3b9iuC4+CbrXv+L9Nqt9oMy/IaL1QrGexz+6pt/+cWK5v6BMEd9ndty/KLZEC/6517/XAvEpCPyHP/PA5CLPIMa/v2I23Jbf1r9tbkYgC5LQvxC7kyc3qd+/Rif65HtJtL/cXlvhP1jevw==",
          "dtype": "f8"
         },
         "y": {
          "bdata": "7i8gxQFE5L9COzo8+wnqv2hYL2J+Iem/6GJUKOwY8b+nveFL+9Prv+lz2ApSSfC//bPR2bNp6L+K68knIOXxv1l+UAxDDPG/jFx01gDV7b+q7CliYBXjvwNY1Rweqeq/aQqZXqnj77/GWBkM31vrv4Qxo+9dzPC/JBSMdXP07r+dhuLpw8bjvzDKbHWXzvC/C6xrEL0/87/F3voUh0Hmv6hHGkmNsOu/isDDMw716b/OyfX92Zzmv6xdC6cOzuy/hlu7GH1u67+5oQxJGZLjv0OvAEdPMOi/d4xcdrOX8r9+yXEO5Ffrv+3OeYvoYfG/H4GZRzMS6b8Big0HSODiv6/borPtDvG/2FPEmpol4b+h/iRudFzsv8fYiubGfeK/22rrlhwd6b9XlOaBvcbov3ViPrtwm+a/EJl0He+P6b969Rg8Rvzrv7/AKGd6Seq/QjUK/TuX8b8/WG0D1nXyv1laKFWEaOq/w1iG0b2l6r9oqlvqPa3tv9xhOnqcJvC/iMmtQLMO67+1hgKGrITsvw==",
          "dtype": "f8"
         },
         "z": {
          "bdata": "agZOtuXk1D+KF9xwfNzdP58psqWx174/MKwHaSdu2T9aqxC4L1LAPy4xKoVhTdE/qik0Ynrldr8Bvih/sMHIP4RwEK0GQN0/WUulMyCh5D+DEJg9aA7SP12YnQsYrsc//6FUR/bGtT8sSHhhbWbRP9MVBQmGfug/BGiObayKuj9a9sZMP5jCP1rWJpr6Q+Q/Qu16IGaYwj867mzI7RbjP6WDm5mzxME/Avkmua5lwT8Pz1b6lsTUP9QlJF2klNQ/iE+2H2COvr9eq6YWo0nPP985bfPJXeA/uyVEX4EMxj/s0n1WO0fQP2po1UQVM9U/eK5M/LfSkb8+5w8YKWjMP6OOrkTp8sw/ObT3i5Qf4j/Hlwat+13PP8XnVxiTM9M/J4Vc7UZm0j88hqPH/sDfP46h3wn5vq4/9bTHBIczyT+jj2L4SbOaP6L/czFMCIe/qax8i9RftD+zORq1c8LXPwls337nW9E/DfZE2Idk0j8jS8kq4cZyP+qZZ+AxvdQ/2+xQSg3k1T/LbPFFQhPYPw==",
          "dtype": "f8"
         }
        },
        {
         "hovertemplate": "cluster=2<br>feature1=%{x}<br>feature2=%{y}<br>feature3=%{z}<extra></extra>",
         "legendgroup": "2",
         "marker": {
          "color": "#00cc96",
          "symbol": "circle"
         },
         "mode": "markers",
         "name": "2",
         "scene": "scene",
         "showlegend": true,
         "type": "scatter3d",
         "x": {
          "bdata": "FqvGuN5G6b+ne/1WBZrgv2LyLqE4WOa/XGvM4+mU1r/w9yCmmKrgv8w+kNyZcuS/3fFgF5vg579nI8lmJIDfv5v0qYb/oOy/ea5rO3Wm1L9QU9Et5OXov17l3d+pHuq/1kpCyV2W7r8lFTqryc7sv9CR02lvNuW/GPmafS5O5L8BWTm3g9Dkvzv4xrom5ee/pQlysjtd8r/ONARgW8Ltv87GDBZvEOm/2hzuR55G5L/jlKy48gfovzDNlgQvweq/EvQ7HYXm7r/vhzYGuU3vvx6MMehWL+m/cF6E0FPA67+m/tBoYJLWvwxerY5P8eO/2X2YHhGY6r8xGlhexu/bv95TmHLAeOa/iNi1GsRF5b/B47MELrHov9zd+XuLLOe/ID/NOn0R7L+4udLjL6brv0DtSJJfaN2/05SZKVGy478T1cv58nPov9RFoG9MZ+i/Hy2Ma8sV8b+k2hcZlvLxv2a6X2hOnOi/myshvEfz7L+QvaeFlYzrv65Ai5vGU+O/heNuNmFV77+16X9sTznnvw==",
          "dtype": "f8"
         },
         "y": {
          "bdata": "JsrlmKL/8z+E6FwmV2znP+jlyJtWIvE/g1Aipe237T92f9oiV1fjP2bYg0TjqPA/RBafR0pk7T/mnmg7lUXlPxytHnEM6u0/Ul4tvvZt4j/P4HsOexLvPwGfL+geveY/ixu3m2f55j/8j7ABhUrfP9E1+k+ztdU/shsBSoUX8T8QnPZa0h/qP9PijfTuY+s/P4aepYlZ4j8lLY/6pk/uP/cPRcZYGuc/l3T+p7qK5D902JNEkwTpP/chGcKip+Q/B2jB8AxL4T+TCG+N4YXkPwXXknzqAvE/M3kcBIgP7j+GuuvfKpzcP7mhd3BfVOg/fKFP2+uT7T87rxBxrrfuPw9kIfziq+c/1Ras3GAc4z8YMZULDNnvPwzqz44NMuQ/xJr7bHZO4z/kKqsS+mznPzMqBNEGrOE/uL2qO1868D+zd6unISfnP+9M9bek7OA/KtLxPkDp4T/n2IjzTGXhP7AePAAgN+s/V3ZMuhTl7j89F9Kvp1PpP9woE9PByuk/nO2iAwhB7T+aySuPtcThPw==",
          "dtype": "f8"
         },
         "z": {
          "bdata": "Vtv0dSBImD8iIsGFj3fSP3nD9jqes84/JJepD0tJtT+FCnv1UYvUP9vsW04+Mtw/z3NCdo32sT98H5KWXTK2P1k2L/AnQNs/hrfvmFiF0D+/pNIbennTPwlnIgdImLU/C95mXHYv3j8vyn69caOXP07THv6ZA7k/yJ3KAb471j9WZNlZA2G3P5Ifs4glh6w/DqPSve8Gvr9+g7vjulypP27ad7T90uU/RTsWOAaoxz+sSCB54Je7P95pOpBub7K/vHBz826FkD+Oxz0P3jrBPw6p4y+AItC/VDLxIT/I3z/MS2+3VL67P6fNX8AI49k/zxlTI6Aizz9JcNT8WCbVP1RPTUy31cI/wq6NaCIeyj8+dCzBBqDoP1Gmdgsdmts/1lVVuyh3tj/nh0BTkdLXP6C68yqwGdK/v74R+8HQ1D/EVoRvenLjP33QjD3lRNw/YysZLZ4MmD/fYPHiq/bJPzgDfLU6+t8/07EBjWhD2T/9EqNBlafSP877o1anc8Q/bwhUBBt6iL88DWIGU32ePw==",
          "dtype": "f8"
         }
        },
        {
         "hovertemplate": "cluster=3<br>feature1=%{x}<br>feature2=%{y}<br>feature3=%{z}<extra></extra>",
         "legendgroup": "3",
         "marker": {
          "color": "#ab63fa",
          "symbol": "circle"
         },
         "mode": "markers",
         "name": "3",
         "scene": "scene",
         "showlegend": true,
         "type": "scatter3d",
         "x": {
          "bdata": "OSb4glUF1T8A4Toj00zVP367qzFBeNI/lvT1cq7l2z/Rz3X1ZXzhP506E7D+NdI/RBhQTMY51j9X1tVpSoPDP+smRQ+jlbQ/vL9TLbgZyb9jAdFlfNHTP875NH/MpdM/tBUdSEAC1z/Whjvq/jHVP+Y4XEXkh9M/zIv/m6pzyb+pFzsxvWrCP9y1uiGRP9Q/u9Beofd7vj/BWr7YxCm/v6UYyCHcHNk/gFOT/h7NvD9CxKBKfobWPwWrVUqcqtE/CP0AX67n1z9R5gq+RPSfP2tOEmw/SdG/q3oQ8loUzT8Df+CF067bP1cZ54nDB7O/nAIxndbFvz/rDb3qSw/Tv4SQZxn67MM/x9OQ9TuRhz8AHfGg1FHQP+spMx0OaLy/jh3SmpOt6T8kOW13fLm6v21jgUj9Pdc/CCrHnslaoD/xrQZdnunjPyfVElCSaHk/JDOabzU70T83fLWh7kO5P5sh2qNpw9A/JvWv1mgh0T9TBTdUWCvLP++nzCpY7cw/tiY2bHiZz7+dwo2DW5ScPw==",
          "dtype": "f8"
         },
         "y": {
          "bdata": "/z0RUK5n6r+xQ3ng9Svuvzp0oDY5Ru+/DhZASnaS579pq5aeb1Tlv3aZRDUni/C/coNvGhF68L+OWLfRlWrpv3LdsKnZgO2/jIAx12HQ479J5atcGRHtv5N4FjUXPea/l4Y5SBuY6L+uVNOXZzvhv1X+L7mJfPC/3BYW56BH8b8I8miq2SXov8FgaBz9iO2/u0Fqa2Ie8b92upMrOI3kv7oUNxP7Re2/UthQHPnB6r+xeIgaHDPjv2zBtlikhNa/oOOzHMcu8L8TBtq3qEjpv41xc1h8X/G/zzFnilU957/CCMBIk7vtv8yDL4HbzuW/Sh1hhVmQ8r+1effU5ILnv5BwKjPrg+2/J1l+HYIu8r+3fOSg8A/kv6hUIP5p0ui/xmP9MrDj6L8CV69zrWrzvxR8F1X7PuO/W1FuWBU76b8rjMALFvnhv1gnFjayPOy/J+u3IhUJ67+mO9rWbSjlv4FFSbZIgdy/NvKw78Je8L/5LYeUXCHyv5ZBSdyFs+i/UICQQ+zO4r+yvG9V0a3xvw==",
          "dtype": "f8"
         },
         "z": {
          "bdata": "amb11V748L/lQi4qVBjmv2tXvZAWxdK/cjpvWnyC37/nXTWzMn/qv3AEH9EVpu2/6nzOCzAe6r9BhPtbEGzpv8QjFznVtu+/gM64efJ37793qHTZZlDsvwnpPBKccu2/8yWgvJyp9L9r99OaNrDtv6FOz3Abru2/K2vmznFF67/csmeKV7Lwv7m33nHG3eW/wgzo48LZ5r9FtTMS+3jpv5AEXI4TrO2/8iL60eBE8L8lONwZVPDlv/elaZ3Qe+S/mVrAEdCa7b+k4kYj9n3qv45TPuwxOfG/co7/Nz5r7L8f7ueXRgTxvzTjGkiUeOq/K7TfY13p4b9+DoAibjP0v/mnt1XBWe2/55rb0gYH3r/fKT0dNVjzv/3j9aX0ZvK/4NTkbY254b/q8fyuOJTxv6wjY9l3iu2/hweZfjuA6b8KuofWH9X2v49yrpubcNi//0q7zjHf7L/IbtYIuL3vvz29JMtnK+2/Ekz877ne7r+PJLdv8Lryv0UcPozGAuy/arwavRRa4L/nO+Llnqbsvw==",
          "dtype": "f8"
         }
        }
       ],
       "layout": {
        "height": 500,
        "legend": {
         "title": {
          "text": "cluster"
         },
         "tracegroupgap": 0
        },
        "scene": {
         "domain": {
          "x": [
           0,
           1
          ],
          "y": [
           0,
           1
          ]
         },
         "xaxis": {
          "title": {
           "text": "feature1"
          }
         },
         "yaxis": {
          "title": {
           "text": "feature2"
          }
         },
         "zaxis": {
          "title": {
           "text": "feature3"
          }
         }
        },
        "template": {
         "data": {
          "bar": [
           {
            "error_x": {
             "color": "#2a3f5f"
            },
            "error_y": {
             "color": "#2a3f5f"
            },
            "marker": {
             "line": {
              "color": "#E5ECF6",
              "width": 0.5
             },
             "pattern": {
              "fillmode": "overlay",
              "size": 10,
              "solidity": 0.2
             }
            },
            "type": "bar"
           }
          ],
          "barpolar": [
           {
            "marker": {
             "line": {
              "color": "#E5ECF6",
              "width": 0.5
             },
             "pattern": {
              "fillmode": "overlay",
              "size": 10,
              "solidity": 0.2
             }
            },
            "type": "barpolar"
           }
          ],
          "carpet": [
           {
            "aaxis": {
             "endlinecolor": "#2a3f5f",
             "gridcolor": "white",
             "linecolor": "white",
             "minorgridcolor": "white",
             "startlinecolor": "#2a3f5f"
            },
            "baxis": {
             "endlinecolor": "#2a3f5f",
             "gridcolor": "white",
             "linecolor": "white",
             "minorgridcolor": "white",
             "startlinecolor": "#2a3f5f"
            },
            "type": "carpet"
           }
          ],
          "choropleth": [
           {
            "colorbar": {
             "outlinewidth": 0,
             "ticks": ""
            },
            "type": "choropleth"
           }
          ],
          "contour": [
           {
            "colorbar": {
             "outlinewidth": 0,
             "ticks": ""
            },
            "colorscale": [
             [
              0,
              "#0d0887"
             ],
             [
              0.1111111111111111,
              "#46039f"
             ],
             [
              0.2222222222222222,
              "#7201a8"
             ],
             [
              0.3333333333333333,
              "#9c179e"
             ],
             [
              0.4444444444444444,
              "#bd3786"
             ],
             [
              0.5555555555555556,
              "#d8576b"
             ],
             [
              0.6666666666666666,
              "#ed7953"
             ],
             [
              0.7777777777777778,
              "#fb9f3a"
             ],
             [
              0.8888888888888888,
              "#fdca26"
             ],
             [
              1,
              "#f0f921"
             ]
            ],
            "type": "contour"
           }
          ],
          "contourcarpet": [
           {
            "colorbar": {
             "outlinewidth": 0,
             "ticks": ""
            },
            "type": "contourcarpet"
           }
          ],
          "heatmap": [
           {
            "colorbar": {
             "outlinewidth": 0,
             "ticks": ""
            },
            "colorscale": [
             [
              0,
              "#0d0887"
             ],
             [
              0.1111111111111111,
              "#46039f"
             ],
             [
              0.2222222222222222,
              "#7201a8"
             ],
             [
              0.3333333333333333,
              "#9c179e"
             ],
             [
              0.4444444444444444,
              "#bd3786"
             ],
             [
              0.5555555555555556,
              "#d8576b"
             ],
             [
              0.6666666666666666,
              "#ed7953"
             ],
             [
              0.7777777777777778,
              "#fb9f3a"
             ],
             [
              0.8888888888888888,
              "#fdca26"
             ],
             [
              1,
              "#f0f921"
             ]
            ],
            "type": "heatmap"
           }
          ],
          "histogram": [
           {
            "marker": {
             "pattern": {
              "fillmode": "overlay",
              "size": 10,
              "solidity": 0.2
             }
            },
            "type": "histogram"
           }
          ],
          "histogram2d": [
           {
            "colorbar": {
             "outlinewidth": 0,
             "ticks": ""
            },
            "colorscale": [
             [
              0,
              "#0d0887"
             ],
             [
              0.1111111111111111,
              "#46039f"
             ],
             [
              0.2222222222222222,
              "#7201a8"
             ],
             [
              0.3333333333333333,
              "#9c179e"
             ],
             [
              0.4444444444444444,
              "#bd3786"
             ],
             [
              0.5555555555555556,
              "#d8576b"
             ],
             [
              0.6666666666666666,
              "#ed7953"
             ],
             [
              0.7777777777777778,
              "#fb9f3a"
             ],
             [
              0.8888888888888888,
              "#fdca26"
             ],
             [
              1,
              "#f0f921"
             ]
            ],
            "type": "histogram2d"
           }
          ],
          "histogram2dcontour": [
           {
            "colorbar": {
             "outlinewidth": 0,
             "ticks": ""
            },
            "colorscale": [
             [
              0,
              "#0d0887"
             ],
             [
              0.1111111111111111,
              "#46039f"
             ],
             [
              0.2222222222222222,
              "#7201a8"
             ],
             [
              0.3333333333333333,
              "#9c179e"
             ],
             [
              0.4444444444444444,
              "#bd3786"
             ],
             [
              0.5555555555555556,
              "#d8576b"
             ],
             [
              0.6666666666666666,
              "#ed7953"
             ],
             [
              0.7777777777777778,
              "#fb9f3a"
             ],
             [
              0.8888888888888888,
              "#fdca26"
             ],
             [
              1,
              "#f0f921"
             ]
            ],
            "type": "histogram2dcontour"
           }
          ],
          "mesh3d": [
           {
            "colorbar": {
             "outlinewidth": 0,
             "ticks": ""
            },
            "type": "mesh3d"
           }
          ],
          "parcoords": [
           {
            "line": {
             "colorbar": {
              "outlinewidth": 0,
              "ticks": ""
             }
            },
            "type": "parcoords"
           }
          ],
          "pie": [
           {
            "automargin": true,
            "type": "pie"
           }
          ],
          "scatter": [
           {
            "fillpattern": {
             "fillmode": "overlay",
             "size": 10,
             "solidity": 0.2
            },
            "type": "scatter"
           }
          ],
          "scatter3d": [
           {
            "line": {
             "colorbar": {
              "outlinewidth": 0,
              "ticks": ""
             }
            },
            "marker": {
             "colorbar": {
              "outlinewidth": 0,
              "ticks": ""
             }
            },
            "type": "scatter3d"
           }
          ],
          "scattercarpet": [
           {
            "marker": {
             "colorbar": {
              "outlinewidth": 0,
              "ticks": ""
             }
            },
            "type": "scattercarpet"
           }
          ],
          "scattergeo": [
           {
            "marker": {
             "colorbar": {
              "outlinewidth": 0,
              "ticks": ""
             }
            },
            "type": "scattergeo"
           }
          ],
          "scattergl": [
           {
            "marker": {
             "colorbar": {
              "outlinewidth": 0,
              "ticks": ""
             }
            },
            "type": "scattergl"
           }
          ],
          "scattermap": [
           {
            "marker": {
             "colorbar": {
              "outlinewidth": 0,
              "ticks": ""
             }
            },
            "type": "scattermap"
           }
          ],
          "scattermapbox": [
           {
            "marker": {
             "colorbar": {
              "outlinewidth": 0,
              "ticks": ""
             }
            },
            "type": "scattermapbox"
           }
          ],
          "scatterpolar": [
           {
            "marker": {
             "colorbar": {
              "outlinewidth": 0,
              "ticks": ""
             }
            },
            "type": "scatterpolar"
           }
          ],
          "scatterpolargl": [
           {
            "marker": {
             "colorbar": {
              "outlinewidth": 0,
              "ticks": ""
             }
            },
            "type": "scatterpolargl"
           }
          ],
          "scatterternary": [
           {
            "marker": {
             "colorbar": {
              "outlinewidth": 0,
              "ticks": ""
             }
            },
            "type": "scatterternary"
           }
          ],
          "surface": [
           {
            "colorbar": {
             "outlinewidth": 0,
             "ticks": ""
            },
            "colorscale": [
             [
              0,
              "#0d0887"
             ],
             [
              0.1111111111111111,
              "#46039f"
             ],
             [
              0.2222222222222222,
              "#7201a8"
             ],
             [
              0.3333333333333333,
              "#9c179e"
             ],
             [
              0.4444444444444444,
              "#bd3786"
             ],
             [
              0.5555555555555556,
              "#d8576b"
             ],
             [
              0.6666666666666666,
              "#ed7953"
             ],
             [
              0.7777777777777778,
              "#fb9f3a"
             ],
             [
              0.8888888888888888,
              "#fdca26"
             ],
             [
              1,
              "#f0f921"
             ]
            ],
            "type": "surface"
           }
          ],
          "table": [
           {
            "cells": {
             "fill": {
              "color": "#EBF0F8"
             },
             "line": {
              "color": "white"
             }
            },
            "header": {
             "fill": {
              "color": "#C8D4E3"
             },
             "line": {
              "color": "white"
             }
            },
            "type": "table"
           }
          ]
         },
         "layout": {
          "annotationdefaults": {
           "arrowcolor": "#2a3f5f",
           "arrowhead": 0,
           "arrowwidth": 1
          },
          "autotypenumbers": "strict",
          "coloraxis": {
           "colorbar": {
            "outlinewidth": 0,
            "ticks": ""
           }
          },
          "colorscale": {
           "diverging": [
            [
             0,
             "#8e0152"
            ],
            [
             0.1,
             "#c51b7d"
            ],
            [
             0.2,
             "#de77ae"
            ],
            [
             0.3,
             "#f1b6da"
            ],
            [
             0.4,
             "#fde0ef"
            ],
            [
             0.5,
             "#f7f7f7"
            ],
            [
             0.6,
             "#e6f5d0"
            ],
            [
             0.7,
             "#b8e186"
            ],
            [
             0.8,
             "#7fbc41"
            ],
            [
             0.9,
             "#4d9221"
            ],
            [
             1,
             "#276419"
            ]
           ],
           "sequential": [
            [
             0,
             "#0d0887"
            ],
            [
             0.1111111111111111,
             "#46039f"
            ],
            [
             0.2222222222222222,
             "#7201a8"
            ],
            [
             0.3333333333333333,
             "#9c179e"
            ],
            [
             0.4444444444444444,
             "#bd3786"
            ],
            [
             0.5555555555555556,
             "#d8576b"
            ],
            [
             0.6666666666666666,
             "#ed7953"
            ],
            [
             0.7777777777777778,
             "#fb9f3a"
            ],
            [
             0.8888888888888888,
             "#fdca26"
            ],
            [
             1,
             "#f0f921"
            ]
           ],
           "sequentialminus": [
            [
             0,
             "#0d0887"
            ],
            [
             0.1111111111111111,
             "#46039f"
            ],
            [
             0.2222222222222222,
             "#7201a8"
            ],
            [
             0.3333333333333333,
             "#9c179e"
            ],
            [
             0.4444444444444444,
             "#bd3786"
            ],
            [
             0.5555555555555556,
             "#d8576b"
            ],
            [
             0.6666666666666666,
             "#ed7953"
            ],
            [
             0.7777777777777778,
             "#fb9f3a"
            ],
            [
             0.8888888888888888,
             "#fdca26"
            ],
            [
             1,
             "#f0f921"
            ]
           ]
          },
          "colorway": [
           "#636efa",
           "#EF553B",
           "#00cc96",
           "#ab63fa",
           "#FFA15A",
           "#19d3f3",
           "#FF6692",
           "#B6E880",
           "#FF97FF",
           "#FECB52"
          ],
          "font": {
           "color": "#2a3f5f"
          },
          "geo": {
           "bgcolor": "white",
           "lakecolor": "white",
           "landcolor": "#E5ECF6",
           "showlakes": true,
           "showland": true,
           "subunitcolor": "white"
          },
          "hoverlabel": {
           "align": "left"
          },
          "hovermode": "closest",
          "mapbox": {
           "style": "light"
          },
          "paper_bgcolor": "white",
          "plot_bgcolor": "#E5ECF6",
          "polar": {
           "angularaxis": {
            "gridcolor": "white",
            "linecolor": "white",
            "ticks": ""
           },
           "bgcolor": "#E5ECF6",
           "radialaxis": {
            "gridcolor": "white",
            "linecolor": "white",
            "ticks": ""
           }
          },
          "scene": {
           "xaxis": {
            "backgroundcolor": "#E5ECF6",
            "gridcolor": "white",
            "gridwidth": 2,
            "linecolor": "white",
            "showbackground": true,
            "ticks": "",
            "zerolinecolor": "white"
           },
           "yaxis": {
            "backgroundcolor": "#E5ECF6",
            "gridcolor": "white",
            "gridwidth": 2,
            "linecolor": "white",
            "showbackground": true,
            "ticks": "",
            "zerolinecolor": "white"
           },
           "zaxis": {
            "backgroundcolor": "#E5ECF6",
            "gridcolor": "white",
            "gridwidth": 2,
            "linecolor": "white",
            "showbackground": true,
            "ticks": "",
            "zerolinecolor": "white"
           }
          },
          "shapedefaults": {
           "line": {
            "color": "#2a3f5f"
           }
          },
          "ternary": {
           "aaxis": {
            "gridcolor": "white",
            "linecolor": "white",
            "ticks": ""
           },
           "baxis": {
            "gridcolor": "white",
            "linecolor": "white",
            "ticks": ""
           },
           "bgcolor": "#E5ECF6",
           "caxis": {
            "gridcolor": "white",
            "linecolor": "white",
            "ticks": ""
           }
          },
          "title": {
           "x": 0.05
          },
          "xaxis": {
           "automargin": true,
           "gridcolor": "white",
           "linecolor": "white",
           "ticks": "",
           "title": {
            "standoff": 15
           },
           "zerolinecolor": "white",
           "zerolinewidth": 2
          },
          "yaxis": {
           "automargin": true,
           "gridcolor": "white",
           "linecolor": "white",
           "ticks": "",
           "title": {
            "standoff": 15
           },
           "zerolinecolor": "white",
           "zerolinewidth": 2
          }
         }
        },
        "title": {
         "text": "4 Clusters | Silhouette Average: 0.7164395449825801"
        },
        "width": 600
       }
      }
     },
     "metadata": {},
     "output_type": "display_data"
    }
   ],
   "source": [
    "df_preds = df.copy()\n",
    "df_preds[\"cluster\"] = pd.Categorical(\n",
    "    kmeans.labels_.astype(str), \n",
    "    categories=[\"0\", \"1\", \"2\", \"3\"], \n",
    "    ordered=True\n",
    ")\n",
    "\n",
    "\n",
    "px.scatter_3d(\n",
    "    df_preds, \n",
    "    x=\"feature1\", y=\"feature2\", z=\"feature3\", \n",
    "    height=500, width=600, color=\"cluster\",\n",
    "    category_orders={\"cluster\": [\"0\", \"1\", \"2\", \"3\"]},\n",
    "    title=f\"{k_clusters} Clusters | Silhouette Average: {silhouette_avg}\"\n",
    ")"
   ]
  }
 ],
 "metadata": {
  "kernelspec": {
   "display_name": "Python (data_analysis)",
   "language": "python",
   "name": "data_analysis"
  },
  "language_info": {
   "codemirror_mode": {
    "name": "ipython",
    "version": 3
   },
   "file_extension": ".py",
   "mimetype": "text/x-python",
   "name": "python",
   "nbconvert_exporter": "python",
   "pygments_lexer": "ipython3",
   "version": "3.13.5"
  }
 },
 "nbformat": 4,
 "nbformat_minor": 5
}
